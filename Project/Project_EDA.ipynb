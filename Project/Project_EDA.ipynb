{
 "cells": [
  {
   "cell_type": "markdown",
   "metadata": {},
   "source": [
    "# Project - Exploratory Data Analysis"
   ]
  },
  {
   "cell_type": "markdown",
   "metadata": {},
   "source": [
    "## Import libraries"
   ]
  },
  {
   "cell_type": "code",
   "execution_count": 1,
   "metadata": {},
   "outputs": [],
   "source": [
    "# Library for data manipulation\n",
    "import pandas as pd\n",
    "import numpy as np\n",
    "\n",
    "# Library for data visualization\n",
    "import seaborn as sns\n",
    "import matplotlib.pyplot as plt\n",
    "%matplotlib inline\n",
    "\n",
    "# Library for handling Jupter warnings\n",
    "import warnings\n",
    "warnings.filterwarnings('ignore')"
   ]
  },
  {
   "cell_type": "markdown",
   "metadata": {},
   "source": [
    "## Loading data"
   ]
  },
  {
   "cell_type": "code",
   "execution_count": 3,
   "metadata": {},
   "outputs": [],
   "source": [
    "df = pd.read_csv('911_Calls_For_Service_2019.csv')"
   ]
  },
  {
   "cell_type": "markdown",
   "metadata": {},
   "source": [
    "## Data observation"
   ]
  },
  {
   "cell_type": "code",
   "execution_count": 4,
   "metadata": {},
   "outputs": [
    {
     "name": "stdout",
     "output_type": "stream",
     "text": [
      "Rows: 1,455,168\n",
      "Columns: 19\n"
     ]
    }
   ],
   "source": [
    "print(f'Rows: {df.shape[0]:,}')\n",
    "print(f'Columns: {df.shape[1]:,}')"
   ]
  },
  {
   "cell_type": "code",
   "execution_count": 5,
   "metadata": {},
   "outputs": [
    {
     "data": {
      "text/plain": [
       "Index(['objectid', 'recordid', 'callkey', 'calldatetime', 'priority',\n",
       "       'district', 'description', 'callnumber', 'incidentlocation', 'location',\n",
       "       'neighborhood', 'policedistrict', 'policepost', 'councildistrict',\n",
       "       'sheriffdistricts', 'community_statistical_areas', 'census_tracts',\n",
       "       'vrizones', 'zipcode'],\n",
       "      dtype='object')"
      ]
     },
     "execution_count": 5,
     "metadata": {},
     "output_type": "execute_result"
    }
   ],
   "source": [
    "df.columns"
   ]
  },
  {
   "cell_type": "code",
   "execution_count": 6,
   "metadata": {},
   "outputs": [
    {
     "data": {
      "text/html": [
       "<div>\n",
       "<style scoped>\n",
       "    .dataframe tbody tr th:only-of-type {\n",
       "        vertical-align: middle;\n",
       "    }\n",
       "\n",
       "    .dataframe tbody tr th {\n",
       "        vertical-align: top;\n",
       "    }\n",
       "\n",
       "    .dataframe thead th {\n",
       "        text-align: right;\n",
       "    }\n",
       "</style>\n",
       "<table border=\"1\" class=\"dataframe\">\n",
       "  <thead>\n",
       "    <tr style=\"text-align: right;\">\n",
       "      <th></th>\n",
       "      <th>objectid</th>\n",
       "      <th>recordid</th>\n",
       "      <th>callkey</th>\n",
       "      <th>calldatetime</th>\n",
       "      <th>priority</th>\n",
       "      <th>district</th>\n",
       "      <th>description</th>\n",
       "      <th>callnumber</th>\n",
       "      <th>incidentlocation</th>\n",
       "      <th>location</th>\n",
       "      <th>neighborhood</th>\n",
       "      <th>policedistrict</th>\n",
       "      <th>policepost</th>\n",
       "      <th>councildistrict</th>\n",
       "      <th>sheriffdistricts</th>\n",
       "      <th>community_statistical_areas</th>\n",
       "      <th>census_tracts</th>\n",
       "      <th>vrizones</th>\n",
       "      <th>zipcode</th>\n",
       "    </tr>\n",
       "  </thead>\n",
       "  <tbody>\n",
       "    <tr>\n",
       "      <td>0</td>\n",
       "      <td>1</td>\n",
       "      <td>174699</td>\n",
       "      <td>1201020A5C2B06DF</td>\n",
       "      <td>2019/01/01 01:21:00+00</td>\n",
       "      <td>High</td>\n",
       "      <td>CD</td>\n",
       "      <td>RA POLICE</td>\n",
       "      <td>P190010250</td>\n",
       "      <td>0 S HOWARD ST</td>\n",
       "      <td>0 S HOWARD ST BALTIMORE MD</td>\n",
       "      <td>Downtown</td>\n",
       "      <td>Central</td>\n",
       "      <td>111.0</td>\n",
       "      <td>11.0</td>\n",
       "      <td>D7</td>\n",
       "      <td>Downtown/Seton Hill</td>\n",
       "      <td>Census Tract 401</td>\n",
       "      <td>NaN</td>\n",
       "      <td>21201.0</td>\n",
       "    </tr>\n",
       "    <tr>\n",
       "      <td>1</td>\n",
       "      <td>2</td>\n",
       "      <td>172354</td>\n",
       "      <td>1201020A5C2C080C</td>\n",
       "      <td>2019/01/01 19:38:00+00</td>\n",
       "      <td>Medium</td>\n",
       "      <td>CD</td>\n",
       "      <td>RA POLICE</td>\n",
       "      <td>P190012840</td>\n",
       "      <td>2500 EUTAW PL</td>\n",
       "      <td>2500 EUTAW PL BALTIMORE MD</td>\n",
       "      <td>Reservoir Hill</td>\n",
       "      <td>Central</td>\n",
       "      <td>133.0</td>\n",
       "      <td>7.0</td>\n",
       "      <td>D2</td>\n",
       "      <td>Penn North/Reservoir Hill</td>\n",
       "      <td>Census Tract 1301</td>\n",
       "      <td>NaN</td>\n",
       "      <td>21217.0</td>\n",
       "    </tr>\n",
       "    <tr>\n",
       "      <td>2</td>\n",
       "      <td>3</td>\n",
       "      <td>172330</td>\n",
       "      <td>1201020A5C2C0998</td>\n",
       "      <td>2019/01/01 19:45:00+00</td>\n",
       "      <td>Medium</td>\n",
       "      <td>CD</td>\n",
       "      <td>RA POLICE</td>\n",
       "      <td>P190012866</td>\n",
       "      <td>2500 EUTAW PL</td>\n",
       "      <td>2500 EUTAW PL BALTIMORE MD</td>\n",
       "      <td>Reservoir Hill</td>\n",
       "      <td>Central</td>\n",
       "      <td>133.0</td>\n",
       "      <td>7.0</td>\n",
       "      <td>D2</td>\n",
       "      <td>Penn North/Reservoir Hill</td>\n",
       "      <td>Census Tract 1301</td>\n",
       "      <td>NaN</td>\n",
       "      <td>21217.0</td>\n",
       "    </tr>\n",
       "    <tr>\n",
       "      <td>3</td>\n",
       "      <td>4</td>\n",
       "      <td>172142</td>\n",
       "      <td>1201020A5C2C1BEE</td>\n",
       "      <td>2019/01/01 21:03:00+00</td>\n",
       "      <td>Non-Emergency</td>\n",
       "      <td>NW</td>\n",
       "      <td>RECOVER PROPERTY</td>\n",
       "      <td>P190013069</td>\n",
       "      <td>3900 BARRINGTON RD</td>\n",
       "      <td>3900 BARRINGTON RD BALTIMORE MD</td>\n",
       "      <td>Dorchester</td>\n",
       "      <td>Northwestern</td>\n",
       "      <td>621.0</td>\n",
       "      <td>6.0</td>\n",
       "      <td>D1</td>\n",
       "      <td>Dorchester/Ashburton</td>\n",
       "      <td>Census Tract 1510</td>\n",
       "      <td>NaN</td>\n",
       "      <td>21207.0</td>\n",
       "    </tr>\n",
       "    <tr>\n",
       "      <td>4</td>\n",
       "      <td>5</td>\n",
       "      <td>172052</td>\n",
       "      <td>1201020A5C2C27DC</td>\n",
       "      <td>2019/01/01 21:54:00+00</td>\n",
       "      <td>Medium</td>\n",
       "      <td>NW</td>\n",
       "      <td>RA POLICE</td>\n",
       "      <td>P190013167</td>\n",
       "      <td>WABASH AV/ELDORADO AV</td>\n",
       "      <td>WABASH AV and ELDORADO AV BALTIMORE MD</td>\n",
       "      <td>Woodmere</td>\n",
       "      <td>Northwestern</td>\n",
       "      <td>623.0</td>\n",
       "      <td>6.0</td>\n",
       "      <td>D1</td>\n",
       "      <td>Howard Park/West Arlington</td>\n",
       "      <td>Census Tract 2801.02</td>\n",
       "      <td>NaN</td>\n",
       "      <td>21215.0</td>\n",
       "    </tr>\n",
       "  </tbody>\n",
       "</table>\n",
       "</div>"
      ],
      "text/plain": [
       "   objectid  recordid           callkey            calldatetime  \\\n",
       "0         1    174699  1201020A5C2B06DF  2019/01/01 01:21:00+00   \n",
       "1         2    172354  1201020A5C2C080C  2019/01/01 19:38:00+00   \n",
       "2         3    172330  1201020A5C2C0998  2019/01/01 19:45:00+00   \n",
       "3         4    172142  1201020A5C2C1BEE  2019/01/01 21:03:00+00   \n",
       "4         5    172052  1201020A5C2C27DC  2019/01/01 21:54:00+00   \n",
       "\n",
       "        priority district       description  callnumber  \\\n",
       "0           High       CD         RA POLICE  P190010250   \n",
       "1         Medium       CD         RA POLICE  P190012840   \n",
       "2         Medium       CD         RA POLICE  P190012866   \n",
       "3  Non-Emergency       NW  RECOVER PROPERTY  P190013069   \n",
       "4         Medium       NW         RA POLICE  P190013167   \n",
       "\n",
       "        incidentlocation                                location  \\\n",
       "0          0 S HOWARD ST              0 S HOWARD ST BALTIMORE MD   \n",
       "1          2500 EUTAW PL              2500 EUTAW PL BALTIMORE MD   \n",
       "2          2500 EUTAW PL              2500 EUTAW PL BALTIMORE MD   \n",
       "3     3900 BARRINGTON RD         3900 BARRINGTON RD BALTIMORE MD   \n",
       "4  WABASH AV/ELDORADO AV  WABASH AV and ELDORADO AV BALTIMORE MD   \n",
       "\n",
       "     neighborhood policedistrict  policepost  councildistrict  \\\n",
       "0        Downtown        Central       111.0             11.0   \n",
       "1  Reservoir Hill        Central       133.0              7.0   \n",
       "2  Reservoir Hill        Central       133.0              7.0   \n",
       "3      Dorchester   Northwestern       621.0              6.0   \n",
       "4        Woodmere   Northwestern       623.0              6.0   \n",
       "\n",
       "  sheriffdistricts community_statistical_areas         census_tracts vrizones  \\\n",
       "0               D7         Downtown/Seton Hill      Census Tract 401      NaN   \n",
       "1               D2   Penn North/Reservoir Hill     Census Tract 1301      NaN   \n",
       "2               D2   Penn North/Reservoir Hill     Census Tract 1301      NaN   \n",
       "3               D1        Dorchester/Ashburton     Census Tract 1510      NaN   \n",
       "4               D1  Howard Park/West Arlington  Census Tract 2801.02      NaN   \n",
       "\n",
       "   zipcode  \n",
       "0  21201.0  \n",
       "1  21217.0  \n",
       "2  21217.0  \n",
       "3  21207.0  \n",
       "4  21215.0  "
      ]
     },
     "execution_count": 6,
     "metadata": {},
     "output_type": "execute_result"
    }
   ],
   "source": [
    "# Display 5 first observations contents\n",
    "df.head()"
   ]
  },
  {
   "cell_type": "markdown",
   "metadata": {},
   "source": [
    "## Attributes types Identification"
   ]
  },
  {
   "cell_type": "code",
   "execution_count": 7,
   "metadata": {},
   "outputs": [
    {
     "name": "stdout",
     "output_type": "stream",
     "text": [
      "<class 'pandas.core.frame.DataFrame'>\n",
      "RangeIndex: 1455168 entries, 0 to 1455167\n",
      "Data columns (total 19 columns):\n",
      "objectid                       1455168 non-null int64\n",
      "recordid                       1455168 non-null int64\n",
      "callkey                        1455168 non-null object\n",
      "calldatetime                   1455168 non-null object\n",
      "priority                       1455162 non-null object\n",
      "district                       1455168 non-null object\n",
      "description                    1455168 non-null object\n",
      "callnumber                     1455168 non-null object\n",
      "incidentlocation               1455168 non-null object\n",
      "location                       1455168 non-null object\n",
      "neighborhood                   1431011 non-null object\n",
      "policedistrict                 1431028 non-null object\n",
      "policepost                     1431077 non-null float64\n",
      "councildistrict                1431134 non-null float64\n",
      "sheriffdistricts               1431097 non-null object\n",
      "community_statistical_areas    1430478 non-null object\n",
      "census_tracts                  1431030 non-null object\n",
      "vrizones                       253048 non-null object\n",
      "zipcode                        1430588 non-null float64\n",
      "dtypes: float64(3), int64(2), object(14)\n",
      "memory usage: 210.9+ MB\n"
     ]
    }
   ],
   "source": [
    "df.info()"
   ]
  },
  {
   "cell_type": "markdown",
   "metadata": {},
   "source": [
    "Input variables: 'objectid', 'recordid', 'callkey', 'calldatetime',\n",
    "       'district', 'description', 'callnumber', 'incidentlocation', 'location',\n",
    "       'neighborhood', 'policedistrict', 'policepost', 'councildistrict',\n",
    "       'sheriffdistricts', 'community_statistical_areas', 'census_tracts',\n",
    "       'vrizones', 'zipcode'"
   ]
  },
  {
   "cell_type": "markdown",
   "metadata": {},
   "source": [
    "Target Variable: 'priority' which indicates the Police Emergency and Non-Emergency calls to 911 in 2019. "
   ]
  },
  {
   "cell_type": "markdown",
   "metadata": {},
   "source": [
    "## Checking and Cleaning Missing Values"
   ]
  },
  {
   "cell_type": "code",
   "execution_count": 8,
   "metadata": {},
   "outputs": [
    {
     "data": {
      "text/plain": [
       "0          9\n",
       "24157      1\n",
       "24091      1\n",
       "24690      1\n",
       "24140      1\n",
       "24138      1\n",
       "1202120    1\n",
       "24071      1\n",
       "6          1\n",
       "24580      1\n",
       "24034      1\n",
       "dtype: int64"
      ]
     },
     "execution_count": 8,
     "metadata": {},
     "output_type": "execute_result"
    }
   ],
   "source": [
    "df.isna().sum().value_counts(dropna=False)"
   ]
  },
  {
   "cell_type": "code",
   "execution_count": 9,
   "metadata": {},
   "outputs": [
    {
     "data": {
      "text/plain": [
       "(252949, 19)"
      ]
     },
     "execution_count": 9,
     "metadata": {},
     "output_type": "execute_result"
    }
   ],
   "source": [
    "df.dropna().shape"
   ]
  },
  {
   "cell_type": "markdown",
   "metadata": {},
   "source": [
    "My dataset had a bunch of missing data, then after cleaning the rows were reduced to 252949 rows and 19 features. So, it still make the required size for our project (> 5,000 rows and 10 features)"
   ]
  },
  {
   "cell_type": "markdown",
   "metadata": {},
   "source": [
    "## Distribution of the target variable (911 calls priorities)"
   ]
  },
  {
   "cell_type": "code",
   "execution_count": 14,
   "metadata": {},
   "outputs": [
    {
     "data": {
      "text/plain": [
       "Non-Emergency     811020\n",
       "Low               279722\n",
       "Medium            274299\n",
       "High               89629\n",
       "Emergency            315\n",
       "Out of Service       177\n",
       "Name: priority, dtype: int64"
      ]
     },
     "execution_count": 14,
     "metadata": {},
     "output_type": "execute_result"
    }
   ],
   "source": [
    "df['priority'].value_counts()"
   ]
  },
  {
   "cell_type": "code",
   "execution_count": 15,
   "metadata": {},
   "outputs": [
    {
     "data": {
      "text/plain": [
       "Non-Emergency     0.557340\n",
       "Low               0.192227\n",
       "Medium            0.188501\n",
       "High              0.061594\n",
       "Emergency         0.000216\n",
       "Out of Service    0.000122\n",
       "Name: priority, dtype: float64"
      ]
     },
     "execution_count": 15,
     "metadata": {},
     "output_type": "execute_result"
    }
   ],
   "source": [
    "df.priority.value_counts(normalize=True)"
   ]
  },
  {
   "cell_type": "code",
   "execution_count": 16,
   "metadata": {},
   "outputs": [
    {
     "data": {
      "image/png": "[encoded data removed]",
      "text/plain": [
       "<Figure size 432x288 with 1 Axes>"
      ]
     },
     "metadata": {
      "needs_background": "light"
     },
     "output_type": "display_data"
    }
   ],
   "source": [
    "sns.histplot(x = df.priority)\n",
    "plt.title('Counts for the 911 calls priority categories')\n",
    "plt.show()"
   ]
  },
  {
   "cell_type": "markdown",
   "metadata": {},
   "source": [
    "So, I will be performing classification of the above classes. I could make a binary classification of the Emergency vs Non-Emergency."
   ]
  }
 ],
 "metadata": {
  "kernelspec": {
   "display_name": "Python 3",
   "language": "python",
   "name": "python3"
  },
  "language_info": {
   "codemirror_mode": {
    "name": "ipython",
    "version": 3
   },
   "file_extension": ".py",
   "mimetype": "text/x-python",
   "name": "python",
   "nbconvert_exporter": "python",
   "pygments_lexer": "ipython3",
   "version": "3.7.4"
  }
 },
 "nbformat": 4,
 "nbformat_minor": 2
}
