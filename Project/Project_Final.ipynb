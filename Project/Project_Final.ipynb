{
 "cells": [
  {
   "cell_type": "markdown",
   "metadata": {},
   "source": [
    "# Project - Final"
   ]
  },
  {
   "cell_type": "markdown",
   "metadata": {},
   "source": [
    "## Abstract/Introduction"
   ]
  },
  {
   "cell_type": "markdown",
   "metadata": {},
   "source": [
    "Baltimore city is known to have a significant high crime rate that is considered above the national average. While I was exploring the data repository recorded by the Baltimore Police, I found the dataset from 2019 that represents the 911 Calls. As a graduate student who just finished learning the Machine Learning class, I collected that dataset to perform a classification modeling task. I run a logistic regression model that categorizes the emergency priority types of those calls from 2019. My baseline logistic regression classifier achieved an accuracy of 96 percent while predicting the 6 labels. If time would permit me, I would be able to fully complete the hyperparameters tuning along with search grid to find the best model suitable for this task."
   ]
  },
  {
   "cell_type": "markdown",
   "metadata": {},
   "source": [
    "## Exploratory data analysis"
   ]
  },
  {
   "cell_type": "markdown",
   "metadata": {},
   "source": [
    "### Import libraries"
   ]
  },
  {
   "cell_type": "code",
   "execution_count": 1,
   "metadata": {},
   "outputs": [],
   "source": [
    "# For data manipulation\n",
    "import pandas as pd\n",
    "import numpy as np\n",
    "\n",
    "# For data visualization\n",
    "import seaborn as sns\n",
    "import matplotlib.pyplot as plt\n",
    "%matplotlib inline\n",
    "\n",
    "# For handling Jupter Notebook python warnings\n",
    "import warnings\n",
    "warnings.filterwarnings('ignore')"
   ]
  },
  {
   "cell_type": "markdown",
   "metadata": {},
   "source": [
    "### Loading data"
   ]
  },
  {
   "cell_type": "code",
   "execution_count": 2,
   "metadata": {},
   "outputs": [],
   "source": [
    "df = pd.read_csv('911_Calls_For_Service_2019.csv')"
   ]
  },
  {
   "cell_type": "markdown",
   "metadata": {},
   "source": [
    "### Data observation"
   ]
  },
  {
   "cell_type": "code",
   "execution_count": 3,
   "metadata": {},
   "outputs": [
    {
     "name": "stdout",
     "output_type": "stream",
     "text": [
      "Rows: 1,455,168\n",
      "Columns: 19\n"
     ]
    }
   ],
   "source": [
    "print(f'Rows: {df.shape[0]:,}')\n",
    "print(f'Columns: {df.shape[1]:,}')"
   ]
  },
  {
   "cell_type": "markdown",
   "metadata": {},
   "source": [
    "Our dataset has a lot observations, so we have enough number of rows to perform this classification tasks on a large dataset."
   ]
  },
  {
   "cell_type": "code",
   "execution_count": 4,
   "metadata": {},
   "outputs": [
    {
     "data": {
      "text/html": [
       "<div>\n",
       "<style scoped>\n",
       "    .dataframe tbody tr th:only-of-type {\n",
       "        vertical-align: middle;\n",
       "    }\n",
       "\n",
       "    .dataframe tbody tr th {\n",
       "        vertical-align: top;\n",
       "    }\n",
       "\n",
       "    .dataframe thead th {\n",
       "        text-align: right;\n",
       "    }\n",
       "</style>\n",
       "<table border=\"1\" class=\"dataframe\">\n",
       "  <thead>\n",
       "    <tr style=\"text-align: right;\">\n",
       "      <th></th>\n",
       "      <th>objectid</th>\n",
       "      <th>recordid</th>\n",
       "      <th>callkey</th>\n",
       "      <th>calldatetime</th>\n",
       "      <th>priority</th>\n",
       "      <th>district</th>\n",
       "      <th>description</th>\n",
       "      <th>callnumber</th>\n",
       "      <th>incidentlocation</th>\n",
       "      <th>location</th>\n",
       "      <th>neighborhood</th>\n",
       "      <th>policedistrict</th>\n",
       "      <th>policepost</th>\n",
       "      <th>councildistrict</th>\n",
       "      <th>sheriffdistricts</th>\n",
       "      <th>community_statistical_areas</th>\n",
       "      <th>census_tracts</th>\n",
       "      <th>vrizones</th>\n",
       "      <th>zipcode</th>\n",
       "    </tr>\n",
       "  </thead>\n",
       "  <tbody>\n",
       "    <tr>\n",
       "      <td>0</td>\n",
       "      <td>1</td>\n",
       "      <td>174699</td>\n",
       "      <td>1201020A5C2B06DF</td>\n",
       "      <td>2019/01/01 01:21:00+00</td>\n",
       "      <td>High</td>\n",
       "      <td>CD</td>\n",
       "      <td>RA POLICE</td>\n",
       "      <td>P190010250</td>\n",
       "      <td>0 S HOWARD ST</td>\n",
       "      <td>0 S HOWARD ST BALTIMORE MD</td>\n",
       "      <td>Downtown</td>\n",
       "      <td>Central</td>\n",
       "      <td>111.0</td>\n",
       "      <td>11.0</td>\n",
       "      <td>D7</td>\n",
       "      <td>Downtown/Seton Hill</td>\n",
       "      <td>Census Tract 401</td>\n",
       "      <td>NaN</td>\n",
       "      <td>21201.0</td>\n",
       "    </tr>\n",
       "    <tr>\n",
       "      <td>1</td>\n",
       "      <td>2</td>\n",
       "      <td>172354</td>\n",
       "      <td>1201020A5C2C080C</td>\n",
       "      <td>2019/01/01 19:38:00+00</td>\n",
       "      <td>Medium</td>\n",
       "      <td>CD</td>\n",
       "      <td>RA POLICE</td>\n",
       "      <td>P190012840</td>\n",
       "      <td>2500 EUTAW PL</td>\n",
       "      <td>2500 EUTAW PL BALTIMORE MD</td>\n",
       "      <td>Reservoir Hill</td>\n",
       "      <td>Central</td>\n",
       "      <td>133.0</td>\n",
       "      <td>7.0</td>\n",
       "      <td>D2</td>\n",
       "      <td>Penn North/Reservoir Hill</td>\n",
       "      <td>Census Tract 1301</td>\n",
       "      <td>NaN</td>\n",
       "      <td>21217.0</td>\n",
       "    </tr>\n",
       "    <tr>\n",
       "      <td>2</td>\n",
       "      <td>3</td>\n",
       "      <td>172330</td>\n",
       "      <td>1201020A5C2C0998</td>\n",
       "      <td>2019/01/01 19:45:00+00</td>\n",
       "      <td>Medium</td>\n",
       "      <td>CD</td>\n",
       "      <td>RA POLICE</td>\n",
       "      <td>P190012866</td>\n",
       "      <td>2500 EUTAW PL</td>\n",
       "      <td>2500 EUTAW PL BALTIMORE MD</td>\n",
       "      <td>Reservoir Hill</td>\n",
       "      <td>Central</td>\n",
       "      <td>133.0</td>\n",
       "      <td>7.0</td>\n",
       "      <td>D2</td>\n",
       "      <td>Penn North/Reservoir Hill</td>\n",
       "      <td>Census Tract 1301</td>\n",
       "      <td>NaN</td>\n",
       "      <td>21217.0</td>\n",
       "    </tr>\n",
       "    <tr>\n",
       "      <td>3</td>\n",
       "      <td>4</td>\n",
       "      <td>172142</td>\n",
       "      <td>1201020A5C2C1BEE</td>\n",
       "      <td>2019/01/01 21:03:00+00</td>\n",
       "      <td>Non-Emergency</td>\n",
       "      <td>NW</td>\n",
       "      <td>RECOVER PROPERTY</td>\n",
       "      <td>P190013069</td>\n",
       "      <td>3900 BARRINGTON RD</td>\n",
       "      <td>3900 BARRINGTON RD BALTIMORE MD</td>\n",
       "      <td>Dorchester</td>\n",
       "      <td>Northwestern</td>\n",
       "      <td>621.0</td>\n",
       "      <td>6.0</td>\n",
       "      <td>D1</td>\n",
       "      <td>Dorchester/Ashburton</td>\n",
       "      <td>Census Tract 1510</td>\n",
       "      <td>NaN</td>\n",
       "      <td>21207.0</td>\n",
       "    </tr>\n",
       "    <tr>\n",
       "      <td>4</td>\n",
       "      <td>5</td>\n",
       "      <td>172052</td>\n",
       "      <td>1201020A5C2C27DC</td>\n",
       "      <td>2019/01/01 21:54:00+00</td>\n",
       "      <td>Medium</td>\n",
       "      <td>NW</td>\n",
       "      <td>RA POLICE</td>\n",
       "      <td>P190013167</td>\n",
       "      <td>WABASH AV/ELDORADO AV</td>\n",
       "      <td>WABASH AV and ELDORADO AV BALTIMORE MD</td>\n",
       "      <td>Woodmere</td>\n",
       "      <td>Northwestern</td>\n",
       "      <td>623.0</td>\n",
       "      <td>6.0</td>\n",
       "      <td>D1</td>\n",
       "      <td>Howard Park/West Arlington</td>\n",
       "      <td>Census Tract 2801.02</td>\n",
       "      <td>NaN</td>\n",
       "      <td>21215.0</td>\n",
       "    </tr>\n",
       "  </tbody>\n",
       "</table>\n",
       "</div>"
      ],
      "text/plain": [
       "   objectid  recordid           callkey            calldatetime  \\\n",
       "0         1    174699  1201020A5C2B06DF  2019/01/01 01:21:00+00   \n",
       "1         2    172354  1201020A5C2C080C  2019/01/01 19:38:00+00   \n",
       "2         3    172330  1201020A5C2C0998  2019/01/01 19:45:00+00   \n",
       "3         4    172142  1201020A5C2C1BEE  2019/01/01 21:03:00+00   \n",
       "4         5    172052  1201020A5C2C27DC  2019/01/01 21:54:00+00   \n",
       "\n",
       "        priority district       description  callnumber  \\\n",
       "0           High       CD         RA POLICE  P190010250   \n",
       "1         Medium       CD         RA POLICE  P190012840   \n",
       "2         Medium       CD         RA POLICE  P190012866   \n",
       "3  Non-Emergency       NW  RECOVER PROPERTY  P190013069   \n",
       "4         Medium       NW         RA POLICE  P190013167   \n",
       "\n",
       "        incidentlocation                                location  \\\n",
       "0          0 S HOWARD ST              0 S HOWARD ST BALTIMORE MD   \n",
       "1          2500 EUTAW PL              2500 EUTAW PL BALTIMORE MD   \n",
       "2          2500 EUTAW PL              2500 EUTAW PL BALTIMORE MD   \n",
       "3     3900 BARRINGTON RD         3900 BARRINGTON RD BALTIMORE MD   \n",
       "4  WABASH AV/ELDORADO AV  WABASH AV and ELDORADO AV BALTIMORE MD   \n",
       "\n",
       "     neighborhood policedistrict  policepost  councildistrict  \\\n",
       "0        Downtown        Central       111.0             11.0   \n",
       "1  Reservoir Hill        Central       133.0              7.0   \n",
       "2  Reservoir Hill        Central       133.0              7.0   \n",
       "3      Dorchester   Northwestern       621.0              6.0   \n",
       "4        Woodmere   Northwestern       623.0              6.0   \n",
       "\n",
       "  sheriffdistricts community_statistical_areas         census_tracts vrizones  \\\n",
       "0               D7         Downtown/Seton Hill      Census Tract 401      NaN   \n",
       "1               D2   Penn North/Reservoir Hill     Census Tract 1301      NaN   \n",
       "2               D2   Penn North/Reservoir Hill     Census Tract 1301      NaN   \n",
       "3               D1        Dorchester/Ashburton     Census Tract 1510      NaN   \n",
       "4               D1  Howard Park/West Arlington  Census Tract 2801.02      NaN   \n",
       "\n",
       "   zipcode  \n",
       "0  21201.0  \n",
       "1  21217.0  \n",
       "2  21217.0  \n",
       "3  21207.0  \n",
       "4  21215.0  "
      ]
     },
     "execution_count": 4,
     "metadata": {},
     "output_type": "execute_result"
    }
   ],
   "source": [
    "# Display 5 first observations contents to get the overview of dataset\n",
    "df.head()"
   ]
  },
  {
   "cell_type": "markdown",
   "metadata": {},
   "source": [
    "As shown above, the dataset has a mix of numerical and categorical features."
   ]
  },
  {
   "cell_type": "markdown",
   "metadata": {},
   "source": [
    "### Attributes types Identification"
   ]
  },
  {
   "cell_type": "code",
   "execution_count": 5,
   "metadata": {
    "scrolled": false
   },
   "outputs": [
    {
     "name": "stdout",
     "output_type": "stream",
     "text": [
      "<class 'pandas.core.frame.DataFrame'>\n",
      "RangeIndex: 1455168 entries, 0 to 1455167\n",
      "Data columns (total 19 columns):\n",
      "objectid                       1455168 non-null int64\n",
      "recordid                       1455168 non-null int64\n",
      "callkey                        1455168 non-null object\n",
      "calldatetime                   1455168 non-null object\n",
      "priority                       1455162 non-null object\n",
      "district                       1455168 non-null object\n",
      "description                    1455168 non-null object\n",
      "callnumber                     1455168 non-null object\n",
      "incidentlocation               1455168 non-null object\n",
      "location                       1455168 non-null object\n",
      "neighborhood                   1431011 non-null object\n",
      "policedistrict                 1431028 non-null object\n",
      "policepost                     1431077 non-null float64\n",
      "councildistrict                1431134 non-null float64\n",
      "sheriffdistricts               1431097 non-null object\n",
      "community_statistical_areas    1430478 non-null object\n",
      "census_tracts                  1431030 non-null object\n",
      "vrizones                       253048 non-null object\n",
      "zipcode                        1430588 non-null float64\n",
      "dtypes: float64(3), int64(2), object(14)\n",
      "memory usage: 210.9+ MB\n"
     ]
    }
   ],
   "source": [
    "df.info()"
   ]
  },
  {
   "cell_type": "markdown",
   "metadata": {},
   "source": [
    "## Data cleaning and feature engineering"
   ]
  },
  {
   "cell_type": "markdown",
   "metadata": {},
   "source": [
    "### Handling missing values and repetitive data"
   ]
  },
  {
   "cell_type": "code",
   "execution_count": 6,
   "metadata": {},
   "outputs": [
    {
     "data": {
      "text/plain": [
       "True"
      ]
     },
     "execution_count": 6,
     "metadata": {},
     "output_type": "execute_result"
    }
   ],
   "source": [
    "df.isnull().values.any()"
   ]
  },
  {
   "cell_type": "code",
   "execution_count": 7,
   "metadata": {},
   "outputs": [
    {
     "data": {
      "text/plain": [
       "objectid                             0\n",
       "recordid                             0\n",
       "callkey                              0\n",
       "calldatetime                         0\n",
       "priority                             6\n",
       "district                             0\n",
       "description                          0\n",
       "callnumber                           0\n",
       "incidentlocation                     0\n",
       "location                             0\n",
       "neighborhood                     24157\n",
       "policedistrict                   24140\n",
       "policepost                       24091\n",
       "councildistrict                  24034\n",
       "sheriffdistricts                 24071\n",
       "community_statistical_areas      24690\n",
       "census_tracts                    24138\n",
       "vrizones                       1202120\n",
       "zipcode                          24580\n",
       "dtype: int64"
      ]
     },
     "execution_count": 7,
     "metadata": {},
     "output_type": "execute_result"
    }
   ],
   "source": [
    "df.isnull().sum()"
   ]
  },
  {
   "cell_type": "code",
   "execution_count": 8,
   "metadata": {},
   "outputs": [
    {
     "data": {
      "text/plain": [
       "1396027"
      ]
     },
     "execution_count": 8,
     "metadata": {},
     "output_type": "execute_result"
    }
   ],
   "source": [
    "df.isnull().sum().sum()"
   ]
  },
  {
   "cell_type": "markdown",
   "metadata": {},
   "source": [
    "The above results show the number of missing values for each column, and the total number of empty data, so this clearly indicates that our dataset has plenty of missing data. Therefore, we can handle this by cleaning those unnecessary columns and keeping the ones useful for modeling."
   ]
  },
  {
   "cell_type": "markdown",
   "metadata": {},
   "source": [
    " Let's remove 'vrizones' as it contains millions of missing values, and it is not useful for modeling."
   ]
  },
  {
   "cell_type": "code",
   "execution_count": 9,
   "metadata": {},
   "outputs": [],
   "source": [
    "df.drop('vrizones', axis=1, inplace=True)"
   ]
  },
  {
   "cell_type": "markdown",
   "metadata": {},
   "source": [
    "Some other data are repetitive, like columns contents of 'incidentlocation' are similar to 'location'. We can remove 'location' and keep 'incidentlocation' in the dataset."
   ]
  },
  {
   "cell_type": "code",
   "execution_count": 10,
   "metadata": {},
   "outputs": [],
   "source": [
    "df.drop('location', axis=1, inplace=True)"
   ]
  },
  {
   "cell_type": "markdown",
   "metadata": {},
   "source": [
    "Both 'district' and  'policedistrict' indicates the same thing as one has acronym of the other. We can keep 'district' and drop 'policedistrict' as it contains missing values. "
   ]
  },
  {
   "cell_type": "code",
   "execution_count": 11,
   "metadata": {},
   "outputs": [],
   "source": [
    "df.drop('policedistrict', axis=1, inplace=True)"
   ]
  },
  {
   "cell_type": "markdown",
   "metadata": {},
   "source": [
    "The column 'census_tracts' has unwanted string part at the beginning that is repetitive for every row, so let's cut it and convert to numerical data."
   ]
  },
  {
   "cell_type": "code",
   "execution_count": 12,
   "metadata": {},
   "outputs": [
    {
     "data": {
      "text/html": [
       "<div>\n",
       "<style scoped>\n",
       "    .dataframe tbody tr th:only-of-type {\n",
       "        vertical-align: middle;\n",
       "    }\n",
       "\n",
       "    .dataframe tbody tr th {\n",
       "        vertical-align: top;\n",
       "    }\n",
       "\n",
       "    .dataframe thead th {\n",
       "        text-align: right;\n",
       "    }\n",
       "</style>\n",
       "<table border=\"1\" class=\"dataframe\">\n",
       "  <thead>\n",
       "    <tr style=\"text-align: right;\">\n",
       "      <th></th>\n",
       "      <th>objectid</th>\n",
       "      <th>recordid</th>\n",
       "      <th>callkey</th>\n",
       "      <th>calldatetime</th>\n",
       "      <th>priority</th>\n",
       "      <th>district</th>\n",
       "      <th>description</th>\n",
       "      <th>callnumber</th>\n",
       "      <th>incidentlocation</th>\n",
       "      <th>neighborhood</th>\n",
       "      <th>policepost</th>\n",
       "      <th>councildistrict</th>\n",
       "      <th>sheriffdistricts</th>\n",
       "      <th>community_statistical_areas</th>\n",
       "      <th>census_tracts</th>\n",
       "      <th>zipcode</th>\n",
       "    </tr>\n",
       "  </thead>\n",
       "  <tbody>\n",
       "    <tr>\n",
       "      <td>0</td>\n",
       "      <td>1</td>\n",
       "      <td>174699</td>\n",
       "      <td>1201020A5C2B06DF</td>\n",
       "      <td>2019/01/01 01:21:00+00</td>\n",
       "      <td>High</td>\n",
       "      <td>CD</td>\n",
       "      <td>RA POLICE</td>\n",
       "      <td>P190010250</td>\n",
       "      <td>0 S HOWARD ST</td>\n",
       "      <td>Downtown</td>\n",
       "      <td>111.0</td>\n",
       "      <td>11.0</td>\n",
       "      <td>D7</td>\n",
       "      <td>Downtown/Seton Hill</td>\n",
       "      <td>401.00</td>\n",
       "      <td>21201.0</td>\n",
       "    </tr>\n",
       "    <tr>\n",
       "      <td>1</td>\n",
       "      <td>2</td>\n",
       "      <td>172354</td>\n",
       "      <td>1201020A5C2C080C</td>\n",
       "      <td>2019/01/01 19:38:00+00</td>\n",
       "      <td>Medium</td>\n",
       "      <td>CD</td>\n",
       "      <td>RA POLICE</td>\n",
       "      <td>P190012840</td>\n",
       "      <td>2500 EUTAW PL</td>\n",
       "      <td>Reservoir Hill</td>\n",
       "      <td>133.0</td>\n",
       "      <td>7.0</td>\n",
       "      <td>D2</td>\n",
       "      <td>Penn North/Reservoir Hill</td>\n",
       "      <td>1301.00</td>\n",
       "      <td>21217.0</td>\n",
       "    </tr>\n",
       "    <tr>\n",
       "      <td>2</td>\n",
       "      <td>3</td>\n",
       "      <td>172330</td>\n",
       "      <td>1201020A5C2C0998</td>\n",
       "      <td>2019/01/01 19:45:00+00</td>\n",
       "      <td>Medium</td>\n",
       "      <td>CD</td>\n",
       "      <td>RA POLICE</td>\n",
       "      <td>P190012866</td>\n",
       "      <td>2500 EUTAW PL</td>\n",
       "      <td>Reservoir Hill</td>\n",
       "      <td>133.0</td>\n",
       "      <td>7.0</td>\n",
       "      <td>D2</td>\n",
       "      <td>Penn North/Reservoir Hill</td>\n",
       "      <td>1301.00</td>\n",
       "      <td>21217.0</td>\n",
       "    </tr>\n",
       "    <tr>\n",
       "      <td>3</td>\n",
       "      <td>4</td>\n",
       "      <td>172142</td>\n",
       "      <td>1201020A5C2C1BEE</td>\n",
       "      <td>2019/01/01 21:03:00+00</td>\n",
       "      <td>Non-Emergency</td>\n",
       "      <td>NW</td>\n",
       "      <td>RECOVER PROPERTY</td>\n",
       "      <td>P190013069</td>\n",
       "      <td>3900 BARRINGTON RD</td>\n",
       "      <td>Dorchester</td>\n",
       "      <td>621.0</td>\n",
       "      <td>6.0</td>\n",
       "      <td>D1</td>\n",
       "      <td>Dorchester/Ashburton</td>\n",
       "      <td>1510.00</td>\n",
       "      <td>21207.0</td>\n",
       "    </tr>\n",
       "    <tr>\n",
       "      <td>4</td>\n",
       "      <td>5</td>\n",
       "      <td>172052</td>\n",
       "      <td>1201020A5C2C27DC</td>\n",
       "      <td>2019/01/01 21:54:00+00</td>\n",
       "      <td>Medium</td>\n",
       "      <td>NW</td>\n",
       "      <td>RA POLICE</td>\n",
       "      <td>P190013167</td>\n",
       "      <td>WABASH AV/ELDORADO AV</td>\n",
       "      <td>Woodmere</td>\n",
       "      <td>623.0</td>\n",
       "      <td>6.0</td>\n",
       "      <td>D1</td>\n",
       "      <td>Howard Park/West Arlington</td>\n",
       "      <td>2801.02</td>\n",
       "      <td>21215.0</td>\n",
       "    </tr>\n",
       "  </tbody>\n",
       "</table>\n",
       "</div>"
      ],
      "text/plain": [
       "   objectid  recordid           callkey            calldatetime  \\\n",
       "0         1    174699  1201020A5C2B06DF  2019/01/01 01:21:00+00   \n",
       "1         2    172354  1201020A5C2C080C  2019/01/01 19:38:00+00   \n",
       "2         3    172330  1201020A5C2C0998  2019/01/01 19:45:00+00   \n",
       "3         4    172142  1201020A5C2C1BEE  2019/01/01 21:03:00+00   \n",
       "4         5    172052  1201020A5C2C27DC  2019/01/01 21:54:00+00   \n",
       "\n",
       "        priority district       description  callnumber  \\\n",
       "0           High       CD         RA POLICE  P190010250   \n",
       "1         Medium       CD         RA POLICE  P190012840   \n",
       "2         Medium       CD         RA POLICE  P190012866   \n",
       "3  Non-Emergency       NW  RECOVER PROPERTY  P190013069   \n",
       "4         Medium       NW         RA POLICE  P190013167   \n",
       "\n",
       "        incidentlocation    neighborhood  policepost  councildistrict  \\\n",
       "0          0 S HOWARD ST        Downtown       111.0             11.0   \n",
       "1          2500 EUTAW PL  Reservoir Hill       133.0              7.0   \n",
       "2          2500 EUTAW PL  Reservoir Hill       133.0              7.0   \n",
       "3     3900 BARRINGTON RD      Dorchester       621.0              6.0   \n",
       "4  WABASH AV/ELDORADO AV        Woodmere       623.0              6.0   \n",
       "\n",
       "  sheriffdistricts community_statistical_areas  census_tracts  zipcode  \n",
       "0               D7         Downtown/Seton Hill         401.00  21201.0  \n",
       "1               D2   Penn North/Reservoir Hill        1301.00  21217.0  \n",
       "2               D2   Penn North/Reservoir Hill        1301.00  21217.0  \n",
       "3               D1        Dorchester/Ashburton        1510.00  21207.0  \n",
       "4               D1  Howard Park/West Arlington        2801.02  21215.0  "
      ]
     },
     "execution_count": 12,
     "metadata": {},
     "output_type": "execute_result"
    }
   ],
   "source": [
    "df['census_tracts'] = df['census_tracts'].astype(str).str.lstrip('Census Tract ')\n",
    "\n",
    "# Convert it to numerical data\n",
    "df['census_tracts'] = pd.to_numeric(df['census_tracts'],errors='coerce')\n",
    "\n",
    "# Take a look of the first five observations\n",
    "df.head()"
   ]
  },
  {
   "cell_type": "code",
   "execution_count": 13,
   "metadata": {
    "scrolled": false
   },
   "outputs": [
    {
     "name": "stdout",
     "output_type": "stream",
     "text": [
      "<class 'pandas.core.frame.DataFrame'>\n",
      "RangeIndex: 1455168 entries, 0 to 1455167\n",
      "Data columns (total 16 columns):\n",
      "objectid                       1455168 non-null int64\n",
      "recordid                       1455168 non-null int64\n",
      "callkey                        1455168 non-null object\n",
      "calldatetime                   1455168 non-null object\n",
      "priority                       1455162 non-null object\n",
      "district                       1455168 non-null object\n",
      "description                    1455168 non-null object\n",
      "callnumber                     1455168 non-null object\n",
      "incidentlocation               1455168 non-null object\n",
      "neighborhood                   1431011 non-null object\n",
      "policepost                     1431077 non-null float64\n",
      "councildistrict                1431134 non-null float64\n",
      "sheriffdistricts               1431097 non-null object\n",
      "community_statistical_areas    1430478 non-null object\n",
      "census_tracts                  1431030 non-null float64\n",
      "zipcode                        1430588 non-null float64\n",
      "dtypes: float64(4), int64(2), object(10)\n",
      "memory usage: 177.6+ MB\n"
     ]
    }
   ],
   "source": [
    "df.info()"
   ]
  },
  {
   "cell_type": "code",
   "execution_count": 14,
   "metadata": {},
   "outputs": [
    {
     "data": {
      "text/plain": [
       "objectid                           0\n",
       "recordid                           0\n",
       "callkey                            0\n",
       "calldatetime                       0\n",
       "priority                           6\n",
       "district                           0\n",
       "description                        0\n",
       "callnumber                         0\n",
       "incidentlocation                   0\n",
       "neighborhood                   24157\n",
       "policepost                     24091\n",
       "councildistrict                24034\n",
       "sheriffdistricts               24071\n",
       "community_statistical_areas    24690\n",
       "census_tracts                  24138\n",
       "zipcode                        24580\n",
       "dtype: int64"
      ]
     },
     "execution_count": 14,
     "metadata": {},
     "output_type": "execute_result"
    }
   ],
   "source": [
    "df.isnull().sum()"
   ]
  },
  {
   "cell_type": "code",
   "execution_count": 15,
   "metadata": {},
   "outputs": [
    {
     "data": {
      "text/plain": [
       "1455168"
      ]
     },
     "execution_count": 15,
     "metadata": {},
     "output_type": "execute_result"
    }
   ],
   "source": [
    "df.shape[0]"
   ]
  },
  {
   "cell_type": "markdown",
   "metadata": {},
   "source": [
    "The size of our dataset is extremely large, so we can drop all the missing values and still hold enough data for modeling."
   ]
  },
  {
   "cell_type": "code",
   "execution_count": 16,
   "metadata": {},
   "outputs": [
    {
     "data": {
      "text/plain": [
       "(1429672, 16)"
      ]
     },
     "execution_count": 16,
     "metadata": {},
     "output_type": "execute_result"
    }
   ],
   "source": [
    "df = df.dropna()\n",
    "df.shape"
   ]
  },
  {
   "cell_type": "code",
   "execution_count": 17,
   "metadata": {},
   "outputs": [
    {
     "data": {
      "text/plain": [
       "objectid                       0\n",
       "recordid                       0\n",
       "callkey                        0\n",
       "calldatetime                   0\n",
       "priority                       0\n",
       "district                       0\n",
       "description                    0\n",
       "callnumber                     0\n",
       "incidentlocation               0\n",
       "neighborhood                   0\n",
       "policepost                     0\n",
       "councildistrict                0\n",
       "sheriffdistricts               0\n",
       "community_statistical_areas    0\n",
       "census_tracts                  0\n",
       "zipcode                        0\n",
       "dtype: int64"
      ]
     },
     "execution_count": 17,
     "metadata": {},
     "output_type": "execute_result"
    }
   ],
   "source": [
    "df.isnull().sum()"
   ]
  },
  {
   "cell_type": "markdown",
   "metadata": {},
   "source": [
    "Now, our dataset does not contain any missing data."
   ]
  },
  {
   "cell_type": "markdown",
   "metadata": {},
   "source": [
    "### Extracting the date parts from calldatetime"
   ]
  },
  {
   "cell_type": "markdown",
   "metadata": {},
   "source": [
    "Start by extracting the date without the timestamp."
   ]
  },
  {
   "cell_type": "code",
   "execution_count": 18,
   "metadata": {},
   "outputs": [
    {
     "data": {
      "text/html": [
       "<div>\n",
       "<style scoped>\n",
       "    .dataframe tbody tr th:only-of-type {\n",
       "        vertical-align: middle;\n",
       "    }\n",
       "\n",
       "    .dataframe tbody tr th {\n",
       "        vertical-align: top;\n",
       "    }\n",
       "\n",
       "    .dataframe thead th {\n",
       "        text-align: right;\n",
       "    }\n",
       "</style>\n",
       "<table border=\"1\" class=\"dataframe\">\n",
       "  <thead>\n",
       "    <tr style=\"text-align: right;\">\n",
       "      <th></th>\n",
       "      <th>objectid</th>\n",
       "      <th>recordid</th>\n",
       "      <th>callkey</th>\n",
       "      <th>priority</th>\n",
       "      <th>district</th>\n",
       "      <th>description</th>\n",
       "      <th>callnumber</th>\n",
       "      <th>incidentlocation</th>\n",
       "      <th>neighborhood</th>\n",
       "      <th>policepost</th>\n",
       "      <th>councildistrict</th>\n",
       "      <th>sheriffdistricts</th>\n",
       "      <th>community_statistical_areas</th>\n",
       "      <th>census_tracts</th>\n",
       "      <th>zipcode</th>\n",
       "      <th>calldate</th>\n",
       "    </tr>\n",
       "  </thead>\n",
       "  <tbody>\n",
       "    <tr>\n",
       "      <td>0</td>\n",
       "      <td>1</td>\n",
       "      <td>174699</td>\n",
       "      <td>1201020A5C2B06DF</td>\n",
       "      <td>High</td>\n",
       "      <td>CD</td>\n",
       "      <td>RA POLICE</td>\n",
       "      <td>P190010250</td>\n",
       "      <td>0 S HOWARD ST</td>\n",
       "      <td>Downtown</td>\n",
       "      <td>111.0</td>\n",
       "      <td>11.0</td>\n",
       "      <td>D7</td>\n",
       "      <td>Downtown/Seton Hill</td>\n",
       "      <td>401.00</td>\n",
       "      <td>21201.0</td>\n",
       "      <td>2019-01-01</td>\n",
       "    </tr>\n",
       "    <tr>\n",
       "      <td>1</td>\n",
       "      <td>2</td>\n",
       "      <td>172354</td>\n",
       "      <td>1201020A5C2C080C</td>\n",
       "      <td>Medium</td>\n",
       "      <td>CD</td>\n",
       "      <td>RA POLICE</td>\n",
       "      <td>P190012840</td>\n",
       "      <td>2500 EUTAW PL</td>\n",
       "      <td>Reservoir Hill</td>\n",
       "      <td>133.0</td>\n",
       "      <td>7.0</td>\n",
       "      <td>D2</td>\n",
       "      <td>Penn North/Reservoir Hill</td>\n",
       "      <td>1301.00</td>\n",
       "      <td>21217.0</td>\n",
       "      <td>2019-01-01</td>\n",
       "    </tr>\n",
       "    <tr>\n",
       "      <td>2</td>\n",
       "      <td>3</td>\n",
       "      <td>172330</td>\n",
       "      <td>1201020A5C2C0998</td>\n",
       "      <td>Medium</td>\n",
       "      <td>CD</td>\n",
       "      <td>RA POLICE</td>\n",
       "      <td>P190012866</td>\n",
       "      <td>2500 EUTAW PL</td>\n",
       "      <td>Reservoir Hill</td>\n",
       "      <td>133.0</td>\n",
       "      <td>7.0</td>\n",
       "      <td>D2</td>\n",
       "      <td>Penn North/Reservoir Hill</td>\n",
       "      <td>1301.00</td>\n",
       "      <td>21217.0</td>\n",
       "      <td>2019-01-01</td>\n",
       "    </tr>\n",
       "    <tr>\n",
       "      <td>3</td>\n",
       "      <td>4</td>\n",
       "      <td>172142</td>\n",
       "      <td>1201020A5C2C1BEE</td>\n",
       "      <td>Non-Emergency</td>\n",
       "      <td>NW</td>\n",
       "      <td>RECOVER PROPERTY</td>\n",
       "      <td>P190013069</td>\n",
       "      <td>3900 BARRINGTON RD</td>\n",
       "      <td>Dorchester</td>\n",
       "      <td>621.0</td>\n",
       "      <td>6.0</td>\n",
       "      <td>D1</td>\n",
       "      <td>Dorchester/Ashburton</td>\n",
       "      <td>1510.00</td>\n",
       "      <td>21207.0</td>\n",
       "      <td>2019-01-01</td>\n",
       "    </tr>\n",
       "    <tr>\n",
       "      <td>4</td>\n",
       "      <td>5</td>\n",
       "      <td>172052</td>\n",
       "      <td>1201020A5C2C27DC</td>\n",
       "      <td>Medium</td>\n",
       "      <td>NW</td>\n",
       "      <td>RA POLICE</td>\n",
       "      <td>P190013167</td>\n",
       "      <td>WABASH AV/ELDORADO AV</td>\n",
       "      <td>Woodmere</td>\n",
       "      <td>623.0</td>\n",
       "      <td>6.0</td>\n",
       "      <td>D1</td>\n",
       "      <td>Howard Park/West Arlington</td>\n",
       "      <td>2801.02</td>\n",
       "      <td>21215.0</td>\n",
       "      <td>2019-01-01</td>\n",
       "    </tr>\n",
       "  </tbody>\n",
       "</table>\n",
       "</div>"
      ],
      "text/plain": [
       "   objectid  recordid           callkey       priority district  \\\n",
       "0         1    174699  1201020A5C2B06DF           High       CD   \n",
       "1         2    172354  1201020A5C2C080C         Medium       CD   \n",
       "2         3    172330  1201020A5C2C0998         Medium       CD   \n",
       "3         4    172142  1201020A5C2C1BEE  Non-Emergency       NW   \n",
       "4         5    172052  1201020A5C2C27DC         Medium       NW   \n",
       "\n",
       "        description  callnumber       incidentlocation    neighborhood  \\\n",
       "0         RA POLICE  P190010250          0 S HOWARD ST        Downtown   \n",
       "1         RA POLICE  P190012840          2500 EUTAW PL  Reservoir Hill   \n",
       "2         RA POLICE  P190012866          2500 EUTAW PL  Reservoir Hill   \n",
       "3  RECOVER PROPERTY  P190013069     3900 BARRINGTON RD      Dorchester   \n",
       "4         RA POLICE  P190013167  WABASH AV/ELDORADO AV        Woodmere   \n",
       "\n",
       "   policepost  councildistrict sheriffdistricts community_statistical_areas  \\\n",
       "0       111.0             11.0               D7         Downtown/Seton Hill   \n",
       "1       133.0              7.0               D2   Penn North/Reservoir Hill   \n",
       "2       133.0              7.0               D2   Penn North/Reservoir Hill   \n",
       "3       621.0              6.0               D1        Dorchester/Ashburton   \n",
       "4       623.0              6.0               D1  Howard Park/West Arlington   \n",
       "\n",
       "   census_tracts  zipcode    calldate  \n",
       "0         401.00  21201.0  2019-01-01  \n",
       "1        1301.00  21217.0  2019-01-01  \n",
       "2        1301.00  21217.0  2019-01-01  \n",
       "3        1510.00  21207.0  2019-01-01  \n",
       "4        2801.02  21215.0  2019-01-01  "
      ]
     },
     "execution_count": 18,
     "metadata": {},
     "output_type": "execute_result"
    }
   ],
   "source": [
    "import datetime\n",
    "\n",
    "df['calldatetime'] = pd.to_datetime(df.calldatetime)\n",
    "df['calldate'] = df['calldatetime'].dt.date\n",
    "df.drop('calldatetime', axis=1, inplace=True)\n",
    "df.head()"
   ]
  },
  {
   "cell_type": "code",
   "execution_count": 19,
   "metadata": {},
   "outputs": [
    {
     "data": {
      "text/html": [
       "<div>\n",
       "<style scoped>\n",
       "    .dataframe tbody tr th:only-of-type {\n",
       "        vertical-align: middle;\n",
       "    }\n",
       "\n",
       "    .dataframe tbody tr th {\n",
       "        vertical-align: top;\n",
       "    }\n",
       "\n",
       "    .dataframe thead th {\n",
       "        text-align: right;\n",
       "    }\n",
       "</style>\n",
       "<table border=\"1\" class=\"dataframe\">\n",
       "  <thead>\n",
       "    <tr style=\"text-align: right;\">\n",
       "      <th></th>\n",
       "      <th>objectid</th>\n",
       "      <th>recordid</th>\n",
       "      <th>callkey</th>\n",
       "      <th>priority</th>\n",
       "      <th>district</th>\n",
       "      <th>description</th>\n",
       "      <th>callnumber</th>\n",
       "      <th>incidentlocation</th>\n",
       "      <th>neighborhood</th>\n",
       "      <th>policepost</th>\n",
       "      <th>...</th>\n",
       "      <th>sheriffdistricts</th>\n",
       "      <th>community_statistical_areas</th>\n",
       "      <th>census_tracts</th>\n",
       "      <th>zipcode</th>\n",
       "      <th>calldate</th>\n",
       "      <th>callyear</th>\n",
       "      <th>callmonth</th>\n",
       "      <th>callday</th>\n",
       "      <th>callmonthname</th>\n",
       "      <th>calldayname</th>\n",
       "    </tr>\n",
       "  </thead>\n",
       "  <tbody>\n",
       "    <tr>\n",
       "      <td>0</td>\n",
       "      <td>1</td>\n",
       "      <td>174699</td>\n",
       "      <td>1201020A5C2B06DF</td>\n",
       "      <td>High</td>\n",
       "      <td>CD</td>\n",
       "      <td>RA POLICE</td>\n",
       "      <td>P190010250</td>\n",
       "      <td>0 S HOWARD ST</td>\n",
       "      <td>Downtown</td>\n",
       "      <td>111.0</td>\n",
       "      <td>...</td>\n",
       "      <td>D7</td>\n",
       "      <td>Downtown/Seton Hill</td>\n",
       "      <td>401.00</td>\n",
       "      <td>21201.0</td>\n",
       "      <td>2019-01-01</td>\n",
       "      <td>2019</td>\n",
       "      <td>1</td>\n",
       "      <td>1</td>\n",
       "      <td>January</td>\n",
       "      <td>Tuesday</td>\n",
       "    </tr>\n",
       "    <tr>\n",
       "      <td>1</td>\n",
       "      <td>2</td>\n",
       "      <td>172354</td>\n",
       "      <td>1201020A5C2C080C</td>\n",
       "      <td>Medium</td>\n",
       "      <td>CD</td>\n",
       "      <td>RA POLICE</td>\n",
       "      <td>P190012840</td>\n",
       "      <td>2500 EUTAW PL</td>\n",
       "      <td>Reservoir Hill</td>\n",
       "      <td>133.0</td>\n",
       "      <td>...</td>\n",
       "      <td>D2</td>\n",
       "      <td>Penn North/Reservoir Hill</td>\n",
       "      <td>1301.00</td>\n",
       "      <td>21217.0</td>\n",
       "      <td>2019-01-01</td>\n",
       "      <td>2019</td>\n",
       "      <td>1</td>\n",
       "      <td>1</td>\n",
       "      <td>January</td>\n",
       "      <td>Tuesday</td>\n",
       "    </tr>\n",
       "    <tr>\n",
       "      <td>2</td>\n",
       "      <td>3</td>\n",
       "      <td>172330</td>\n",
       "      <td>1201020A5C2C0998</td>\n",
       "      <td>Medium</td>\n",
       "      <td>CD</td>\n",
       "      <td>RA POLICE</td>\n",
       "      <td>P190012866</td>\n",
       "      <td>2500 EUTAW PL</td>\n",
       "      <td>Reservoir Hill</td>\n",
       "      <td>133.0</td>\n",
       "      <td>...</td>\n",
       "      <td>D2</td>\n",
       "      <td>Penn North/Reservoir Hill</td>\n",
       "      <td>1301.00</td>\n",
       "      <td>21217.0</td>\n",
       "      <td>2019-01-01</td>\n",
       "      <td>2019</td>\n",
       "      <td>1</td>\n",
       "      <td>1</td>\n",
       "      <td>January</td>\n",
       "      <td>Tuesday</td>\n",
       "    </tr>\n",
       "    <tr>\n",
       "      <td>3</td>\n",
       "      <td>4</td>\n",
       "      <td>172142</td>\n",
       "      <td>1201020A5C2C1BEE</td>\n",
       "      <td>Non-Emergency</td>\n",
       "      <td>NW</td>\n",
       "      <td>RECOVER PROPERTY</td>\n",
       "      <td>P190013069</td>\n",
       "      <td>3900 BARRINGTON RD</td>\n",
       "      <td>Dorchester</td>\n",
       "      <td>621.0</td>\n",
       "      <td>...</td>\n",
       "      <td>D1</td>\n",
       "      <td>Dorchester/Ashburton</td>\n",
       "      <td>1510.00</td>\n",
       "      <td>21207.0</td>\n",
       "      <td>2019-01-01</td>\n",
       "      <td>2019</td>\n",
       "      <td>1</td>\n",
       "      <td>1</td>\n",
       "      <td>January</td>\n",
       "      <td>Tuesday</td>\n",
       "    </tr>\n",
       "    <tr>\n",
       "      <td>4</td>\n",
       "      <td>5</td>\n",
       "      <td>172052</td>\n",
       "      <td>1201020A5C2C27DC</td>\n",
       "      <td>Medium</td>\n",
       "      <td>NW</td>\n",
       "      <td>RA POLICE</td>\n",
       "      <td>P190013167</td>\n",
       "      <td>WABASH AV/ELDORADO AV</td>\n",
       "      <td>Woodmere</td>\n",
       "      <td>623.0</td>\n",
       "      <td>...</td>\n",
       "      <td>D1</td>\n",
       "      <td>Howard Park/West Arlington</td>\n",
       "      <td>2801.02</td>\n",
       "      <td>21215.0</td>\n",
       "      <td>2019-01-01</td>\n",
       "      <td>2019</td>\n",
       "      <td>1</td>\n",
       "      <td>1</td>\n",
       "      <td>January</td>\n",
       "      <td>Tuesday</td>\n",
       "    </tr>\n",
       "  </tbody>\n",
       "</table>\n",
       "<p>5 rows × 21 columns</p>\n",
       "</div>"
      ],
      "text/plain": [
       "   objectid  recordid           callkey       priority district  \\\n",
       "0         1    174699  1201020A5C2B06DF           High       CD   \n",
       "1         2    172354  1201020A5C2C080C         Medium       CD   \n",
       "2         3    172330  1201020A5C2C0998         Medium       CD   \n",
       "3         4    172142  1201020A5C2C1BEE  Non-Emergency       NW   \n",
       "4         5    172052  1201020A5C2C27DC         Medium       NW   \n",
       "\n",
       "        description  callnumber       incidentlocation    neighborhood  \\\n",
       "0         RA POLICE  P190010250          0 S HOWARD ST        Downtown   \n",
       "1         RA POLICE  P190012840          2500 EUTAW PL  Reservoir Hill   \n",
       "2         RA POLICE  P190012866          2500 EUTAW PL  Reservoir Hill   \n",
       "3  RECOVER PROPERTY  P190013069     3900 BARRINGTON RD      Dorchester   \n",
       "4         RA POLICE  P190013167  WABASH AV/ELDORADO AV        Woodmere   \n",
       "\n",
       "   policepost  ...  sheriffdistricts community_statistical_areas  \\\n",
       "0       111.0  ...                D7         Downtown/Seton Hill   \n",
       "1       133.0  ...                D2   Penn North/Reservoir Hill   \n",
       "2       133.0  ...                D2   Penn North/Reservoir Hill   \n",
       "3       621.0  ...                D1        Dorchester/Ashburton   \n",
       "4       623.0  ...                D1  Howard Park/West Arlington   \n",
       "\n",
       "  census_tracts  zipcode   calldate callyear  callmonth  callday  \\\n",
       "0        401.00  21201.0 2019-01-01     2019          1        1   \n",
       "1       1301.00  21217.0 2019-01-01     2019          1        1   \n",
       "2       1301.00  21217.0 2019-01-01     2019          1        1   \n",
       "3       1510.00  21207.0 2019-01-01     2019          1        1   \n",
       "4       2801.02  21215.0 2019-01-01     2019          1        1   \n",
       "\n",
       "   callmonthname calldayname  \n",
       "0        January     Tuesday  \n",
       "1        January     Tuesday  \n",
       "2        January     Tuesday  \n",
       "3        January     Tuesday  \n",
       "4        January     Tuesday  \n",
       "\n",
       "[5 rows x 21 columns]"
      ]
     },
     "execution_count": 19,
     "metadata": {},
     "output_type": "execute_result"
    }
   ],
   "source": [
    "df['calldate'] = pd.to_datetime(df.calldate)\n",
    "df['callyear'] = df['calldate'].dt.year\n",
    "df['callmonth'] = df['calldate'].dt.month\n",
    "df['callday'] = df['calldate'].dt.day\n",
    "df['callmonthname'] = df['calldate'].dt.month_name()\n",
    "df['calldayname'] = df['calldate'].dt.day_name()\n",
    "\n",
    "df.head()"
   ]
  },
  {
   "cell_type": "code",
   "execution_count": 20,
   "metadata": {
    "scrolled": true
   },
   "outputs": [
    {
     "data": {
      "text/html": [
       "<div>\n",
       "<style scoped>\n",
       "    .dataframe tbody tr th:only-of-type {\n",
       "        vertical-align: middle;\n",
       "    }\n",
       "\n",
       "    .dataframe tbody tr th {\n",
       "        vertical-align: top;\n",
       "    }\n",
       "\n",
       "    .dataframe thead th {\n",
       "        text-align: right;\n",
       "    }\n",
       "</style>\n",
       "<table border=\"1\" class=\"dataframe\">\n",
       "  <thead>\n",
       "    <tr style=\"text-align: right;\">\n",
       "      <th></th>\n",
       "      <th>objectid</th>\n",
       "      <th>recordid</th>\n",
       "      <th>callkey</th>\n",
       "      <th>priority</th>\n",
       "      <th>district</th>\n",
       "      <th>description</th>\n",
       "      <th>callnumber</th>\n",
       "      <th>incidentlocation</th>\n",
       "      <th>neighborhood</th>\n",
       "      <th>policepost</th>\n",
       "      <th>councildistrict</th>\n",
       "      <th>sheriffdistricts</th>\n",
       "      <th>community_statistical_areas</th>\n",
       "      <th>census_tracts</th>\n",
       "      <th>zipcode</th>\n",
       "      <th>callyear</th>\n",
       "      <th>callmonth</th>\n",
       "      <th>callday</th>\n",
       "      <th>callmonthname</th>\n",
       "      <th>calldayname</th>\n",
       "    </tr>\n",
       "    <tr>\n",
       "      <th>calldate</th>\n",
       "      <th></th>\n",
       "      <th></th>\n",
       "      <th></th>\n",
       "      <th></th>\n",
       "      <th></th>\n",
       "      <th></th>\n",
       "      <th></th>\n",
       "      <th></th>\n",
       "      <th></th>\n",
       "      <th></th>\n",
       "      <th></th>\n",
       "      <th></th>\n",
       "      <th></th>\n",
       "      <th></th>\n",
       "      <th></th>\n",
       "      <th></th>\n",
       "      <th></th>\n",
       "      <th></th>\n",
       "      <th></th>\n",
       "      <th></th>\n",
       "    </tr>\n",
       "  </thead>\n",
       "  <tbody>\n",
       "    <tr>\n",
       "      <td>2019-01-01</td>\n",
       "      <td>1</td>\n",
       "      <td>174699</td>\n",
       "      <td>1201020A5C2B06DF</td>\n",
       "      <td>High</td>\n",
       "      <td>CD</td>\n",
       "      <td>RA POLICE</td>\n",
       "      <td>P190010250</td>\n",
       "      <td>0 S HOWARD ST</td>\n",
       "      <td>Downtown</td>\n",
       "      <td>111.0</td>\n",
       "      <td>11.0</td>\n",
       "      <td>D7</td>\n",
       "      <td>Downtown/Seton Hill</td>\n",
       "      <td>401.00</td>\n",
       "      <td>21201.0</td>\n",
       "      <td>2019</td>\n",
       "      <td>1</td>\n",
       "      <td>1</td>\n",
       "      <td>January</td>\n",
       "      <td>Tuesday</td>\n",
       "    </tr>\n",
       "    <tr>\n",
       "      <td>2019-01-01</td>\n",
       "      <td>2</td>\n",
       "      <td>172354</td>\n",
       "      <td>1201020A5C2C080C</td>\n",
       "      <td>Medium</td>\n",
       "      <td>CD</td>\n",
       "      <td>RA POLICE</td>\n",
       "      <td>P190012840</td>\n",
       "      <td>2500 EUTAW PL</td>\n",
       "      <td>Reservoir Hill</td>\n",
       "      <td>133.0</td>\n",
       "      <td>7.0</td>\n",
       "      <td>D2</td>\n",
       "      <td>Penn North/Reservoir Hill</td>\n",
       "      <td>1301.00</td>\n",
       "      <td>21217.0</td>\n",
       "      <td>2019</td>\n",
       "      <td>1</td>\n",
       "      <td>1</td>\n",
       "      <td>January</td>\n",
       "      <td>Tuesday</td>\n",
       "    </tr>\n",
       "    <tr>\n",
       "      <td>2019-01-01</td>\n",
       "      <td>3</td>\n",
       "      <td>172330</td>\n",
       "      <td>1201020A5C2C0998</td>\n",
       "      <td>Medium</td>\n",
       "      <td>CD</td>\n",
       "      <td>RA POLICE</td>\n",
       "      <td>P190012866</td>\n",
       "      <td>2500 EUTAW PL</td>\n",
       "      <td>Reservoir Hill</td>\n",
       "      <td>133.0</td>\n",
       "      <td>7.0</td>\n",
       "      <td>D2</td>\n",
       "      <td>Penn North/Reservoir Hill</td>\n",
       "      <td>1301.00</td>\n",
       "      <td>21217.0</td>\n",
       "      <td>2019</td>\n",
       "      <td>1</td>\n",
       "      <td>1</td>\n",
       "      <td>January</td>\n",
       "      <td>Tuesday</td>\n",
       "    </tr>\n",
       "    <tr>\n",
       "      <td>2019-01-01</td>\n",
       "      <td>4</td>\n",
       "      <td>172142</td>\n",
       "      <td>1201020A5C2C1BEE</td>\n",
       "      <td>Non-Emergency</td>\n",
       "      <td>NW</td>\n",
       "      <td>RECOVER PROPERTY</td>\n",
       "      <td>P190013069</td>\n",
       "      <td>3900 BARRINGTON RD</td>\n",
       "      <td>Dorchester</td>\n",
       "      <td>621.0</td>\n",
       "      <td>6.0</td>\n",
       "      <td>D1</td>\n",
       "      <td>Dorchester/Ashburton</td>\n",
       "      <td>1510.00</td>\n",
       "      <td>21207.0</td>\n",
       "      <td>2019</td>\n",
       "      <td>1</td>\n",
       "      <td>1</td>\n",
       "      <td>January</td>\n",
       "      <td>Tuesday</td>\n",
       "    </tr>\n",
       "    <tr>\n",
       "      <td>2019-01-01</td>\n",
       "      <td>5</td>\n",
       "      <td>172052</td>\n",
       "      <td>1201020A5C2C27DC</td>\n",
       "      <td>Medium</td>\n",
       "      <td>NW</td>\n",
       "      <td>RA POLICE</td>\n",
       "      <td>P190013167</td>\n",
       "      <td>WABASH AV/ELDORADO AV</td>\n",
       "      <td>Woodmere</td>\n",
       "      <td>623.0</td>\n",
       "      <td>6.0</td>\n",
       "      <td>D1</td>\n",
       "      <td>Howard Park/West Arlington</td>\n",
       "      <td>2801.02</td>\n",
       "      <td>21215.0</td>\n",
       "      <td>2019</td>\n",
       "      <td>1</td>\n",
       "      <td>1</td>\n",
       "      <td>January</td>\n",
       "      <td>Tuesday</td>\n",
       "    </tr>\n",
       "  </tbody>\n",
       "</table>\n",
       "</div>"
      ],
      "text/plain": [
       "            objectid  recordid           callkey       priority district  \\\n",
       "calldate                                                                   \n",
       "2019-01-01         1    174699  1201020A5C2B06DF           High       CD   \n",
       "2019-01-01         2    172354  1201020A5C2C080C         Medium       CD   \n",
       "2019-01-01         3    172330  1201020A5C2C0998         Medium       CD   \n",
       "2019-01-01         4    172142  1201020A5C2C1BEE  Non-Emergency       NW   \n",
       "2019-01-01         5    172052  1201020A5C2C27DC         Medium       NW   \n",
       "\n",
       "                 description  callnumber       incidentlocation  \\\n",
       "calldate                                                          \n",
       "2019-01-01         RA POLICE  P190010250          0 S HOWARD ST   \n",
       "2019-01-01         RA POLICE  P190012840          2500 EUTAW PL   \n",
       "2019-01-01         RA POLICE  P190012866          2500 EUTAW PL   \n",
       "2019-01-01  RECOVER PROPERTY  P190013069     3900 BARRINGTON RD   \n",
       "2019-01-01         RA POLICE  P190013167  WABASH AV/ELDORADO AV   \n",
       "\n",
       "              neighborhood  policepost  councildistrict sheriffdistricts  \\\n",
       "calldate                                                                   \n",
       "2019-01-01        Downtown       111.0             11.0               D7   \n",
       "2019-01-01  Reservoir Hill       133.0              7.0               D2   \n",
       "2019-01-01  Reservoir Hill       133.0              7.0               D2   \n",
       "2019-01-01      Dorchester       621.0              6.0               D1   \n",
       "2019-01-01        Woodmere       623.0              6.0               D1   \n",
       "\n",
       "           community_statistical_areas  census_tracts  zipcode  callyear  \\\n",
       "calldate                                                                   \n",
       "2019-01-01         Downtown/Seton Hill         401.00  21201.0      2019   \n",
       "2019-01-01   Penn North/Reservoir Hill        1301.00  21217.0      2019   \n",
       "2019-01-01   Penn North/Reservoir Hill        1301.00  21217.0      2019   \n",
       "2019-01-01        Dorchester/Ashburton        1510.00  21207.0      2019   \n",
       "2019-01-01  Howard Park/West Arlington        2801.02  21215.0      2019   \n",
       "\n",
       "            callmonth  callday callmonthname calldayname  \n",
       "calldate                                                  \n",
       "2019-01-01          1        1       January     Tuesday  \n",
       "2019-01-01          1        1       January     Tuesday  \n",
       "2019-01-01          1        1       January     Tuesday  \n",
       "2019-01-01          1        1       January     Tuesday  \n",
       "2019-01-01          1        1       January     Tuesday  "
      ]
     },
     "execution_count": 20,
     "metadata": {},
     "output_type": "execute_result"
    }
   ],
   "source": [
    "data = df.set_index('calldate')\n",
    "data.head()"
   ]
  },
  {
   "cell_type": "code",
   "execution_count": 21,
   "metadata": {},
   "outputs": [
    {
     "data": {
      "text/html": [
       "<div>\n",
       "<style scoped>\n",
       "    .dataframe tbody tr th:only-of-type {\n",
       "        vertical-align: middle;\n",
       "    }\n",
       "\n",
       "    .dataframe tbody tr th {\n",
       "        vertical-align: top;\n",
       "    }\n",
       "\n",
       "    .dataframe thead th {\n",
       "        text-align: right;\n",
       "    }\n",
       "</style>\n",
       "<table border=\"1\" class=\"dataframe\">\n",
       "  <thead>\n",
       "    <tr style=\"text-align: right;\">\n",
       "      <th></th>\n",
       "      <th>objectid</th>\n",
       "      <th>recordid</th>\n",
       "      <th>callkey</th>\n",
       "      <th>priority</th>\n",
       "      <th>district</th>\n",
       "      <th>description</th>\n",
       "      <th>callnumber</th>\n",
       "      <th>incidentlocation</th>\n",
       "      <th>neighborhood</th>\n",
       "      <th>policepost</th>\n",
       "      <th>councildistrict</th>\n",
       "      <th>sheriffdistricts</th>\n",
       "      <th>community_statistical_areas</th>\n",
       "      <th>census_tracts</th>\n",
       "      <th>zipcode</th>\n",
       "      <th>callyear</th>\n",
       "      <th>callmonth</th>\n",
       "      <th>callday</th>\n",
       "      <th>callmonthname</th>\n",
       "      <th>calldayname</th>\n",
       "    </tr>\n",
       "    <tr>\n",
       "      <th>calldate</th>\n",
       "      <th></th>\n",
       "      <th></th>\n",
       "      <th></th>\n",
       "      <th></th>\n",
       "      <th></th>\n",
       "      <th></th>\n",
       "      <th></th>\n",
       "      <th></th>\n",
       "      <th></th>\n",
       "      <th></th>\n",
       "      <th></th>\n",
       "      <th></th>\n",
       "      <th></th>\n",
       "      <th></th>\n",
       "      <th></th>\n",
       "      <th></th>\n",
       "      <th></th>\n",
       "      <th></th>\n",
       "      <th></th>\n",
       "      <th></th>\n",
       "    </tr>\n",
       "  </thead>\n",
       "  <tbody>\n",
       "    <tr>\n",
       "      <td>2019-12-19</td>\n",
       "      <td>1455164</td>\n",
       "      <td>6983212</td>\n",
       "      <td>B501020A5DFB8FD4</td>\n",
       "      <td>Non-Emergency</td>\n",
       "      <td>WD</td>\n",
       "      <td>Business Check</td>\n",
       "      <td>P193531713</td>\n",
       "      <td>1800 BAKER ST</td>\n",
       "      <td>Sandtown-Winchester</td>\n",
       "      <td>742.0</td>\n",
       "      <td>7.0</td>\n",
       "      <td>D8</td>\n",
       "      <td>Sandtown-Winchester/Harlem Park</td>\n",
       "      <td>1502.0</td>\n",
       "      <td>21217.0</td>\n",
       "      <td>2019</td>\n",
       "      <td>12</td>\n",
       "      <td>19</td>\n",
       "      <td>December</td>\n",
       "      <td>Thursday</td>\n",
       "    </tr>\n",
       "    <tr>\n",
       "      <td>2019-12-19</td>\n",
       "      <td>1455165</td>\n",
       "      <td>6983273</td>\n",
       "      <td>B501020A5DFB8FDC</td>\n",
       "      <td>Non-Emergency</td>\n",
       "      <td>SD</td>\n",
       "      <td>COMMUNITY ENGAGE</td>\n",
       "      <td>P193531714</td>\n",
       "      <td>200 BLK PARKIN ST</td>\n",
       "      <td>Washington Village/Pigtown</td>\n",
       "      <td>932.0</td>\n",
       "      <td>10.0</td>\n",
       "      <td>D7</td>\n",
       "      <td>Washington Village/Pigtown</td>\n",
       "      <td>2102.0</td>\n",
       "      <td>21201.0</td>\n",
       "      <td>2019</td>\n",
       "      <td>12</td>\n",
       "      <td>19</td>\n",
       "      <td>December</td>\n",
       "      <td>Thursday</td>\n",
       "    </tr>\n",
       "    <tr>\n",
       "      <td>2019-12-19</td>\n",
       "      <td>1455166</td>\n",
       "      <td>6983295</td>\n",
       "      <td>B501020A5DFB8FE1</td>\n",
       "      <td>Non-Emergency</td>\n",
       "      <td>WD</td>\n",
       "      <td>Business Check</td>\n",
       "      <td>P193531715</td>\n",
       "      <td>1800 BAKER ST</td>\n",
       "      <td>Sandtown-Winchester</td>\n",
       "      <td>742.0</td>\n",
       "      <td>7.0</td>\n",
       "      <td>D8</td>\n",
       "      <td>Sandtown-Winchester/Harlem Park</td>\n",
       "      <td>1502.0</td>\n",
       "      <td>21217.0</td>\n",
       "      <td>2019</td>\n",
       "      <td>12</td>\n",
       "      <td>19</td>\n",
       "      <td>December</td>\n",
       "      <td>Thursday</td>\n",
       "    </tr>\n",
       "    <tr>\n",
       "      <td>2019-12-19</td>\n",
       "      <td>1455167</td>\n",
       "      <td>6983207</td>\n",
       "      <td>B501020A5DFB8FF6</td>\n",
       "      <td>Non-Emergency</td>\n",
       "      <td>SW</td>\n",
       "      <td>Foot  Patrol</td>\n",
       "      <td>P193531716</td>\n",
       "      <td>3100 BLK W NORTH AV</td>\n",
       "      <td>Northwest Community Action</td>\n",
       "      <td>811.0</td>\n",
       "      <td>7.0</td>\n",
       "      <td>D9</td>\n",
       "      <td>Greater Rosemont</td>\n",
       "      <td>1506.0</td>\n",
       "      <td>21216.0</td>\n",
       "      <td>2019</td>\n",
       "      <td>12</td>\n",
       "      <td>19</td>\n",
       "      <td>December</td>\n",
       "      <td>Thursday</td>\n",
       "    </tr>\n",
       "    <tr>\n",
       "      <td>2019-01-01</td>\n",
       "      <td>1455168</td>\n",
       "      <td>174898</td>\n",
       "      <td>D002020A5C2AF602</td>\n",
       "      <td>High</td>\n",
       "      <td>CD</td>\n",
       "      <td>SHOOTING</td>\n",
       "      <td>P190010044</td>\n",
       "      <td>LIGHT ST/E LEE ST</td>\n",
       "      <td>Otterbein</td>\n",
       "      <td>941.0</td>\n",
       "      <td>11.0</td>\n",
       "      <td>D7</td>\n",
       "      <td>Inner Harbor/Federal Hill</td>\n",
       "      <td>2201.0</td>\n",
       "      <td>21202.0</td>\n",
       "      <td>2019</td>\n",
       "      <td>1</td>\n",
       "      <td>1</td>\n",
       "      <td>January</td>\n",
       "      <td>Tuesday</td>\n",
       "    </tr>\n",
       "  </tbody>\n",
       "</table>\n",
       "</div>"
      ],
      "text/plain": [
       "            objectid  recordid           callkey       priority district  \\\n",
       "calldate                                                                   \n",
       "2019-12-19   1455164   6983212  B501020A5DFB8FD4  Non-Emergency       WD   \n",
       "2019-12-19   1455165   6983273  B501020A5DFB8FDC  Non-Emergency       SD   \n",
       "2019-12-19   1455166   6983295  B501020A5DFB8FE1  Non-Emergency       WD   \n",
       "2019-12-19   1455167   6983207  B501020A5DFB8FF6  Non-Emergency       SW   \n",
       "2019-01-01   1455168    174898  D002020A5C2AF602           High       CD   \n",
       "\n",
       "                 description  callnumber     incidentlocation  \\\n",
       "calldate                                                        \n",
       "2019-12-19    Business Check  P193531713        1800 BAKER ST   \n",
       "2019-12-19  COMMUNITY ENGAGE  P193531714    200 BLK PARKIN ST   \n",
       "2019-12-19    Business Check  P193531715        1800 BAKER ST   \n",
       "2019-12-19      Foot  Patrol  P193531716  3100 BLK W NORTH AV   \n",
       "2019-01-01          SHOOTING  P190010044    LIGHT ST/E LEE ST   \n",
       "\n",
       "                          neighborhood  policepost  councildistrict  \\\n",
       "calldate                                                              \n",
       "2019-12-19         Sandtown-Winchester       742.0              7.0   \n",
       "2019-12-19  Washington Village/Pigtown       932.0             10.0   \n",
       "2019-12-19         Sandtown-Winchester       742.0              7.0   \n",
       "2019-12-19  Northwest Community Action       811.0              7.0   \n",
       "2019-01-01                   Otterbein       941.0             11.0   \n",
       "\n",
       "           sheriffdistricts      community_statistical_areas  census_tracts  \\\n",
       "calldate                                                                      \n",
       "2019-12-19               D8  Sandtown-Winchester/Harlem Park         1502.0   \n",
       "2019-12-19               D7       Washington Village/Pigtown         2102.0   \n",
       "2019-12-19               D8  Sandtown-Winchester/Harlem Park         1502.0   \n",
       "2019-12-19               D9                 Greater Rosemont         1506.0   \n",
       "2019-01-01               D7        Inner Harbor/Federal Hill         2201.0   \n",
       "\n",
       "            zipcode  callyear  callmonth  callday callmonthname calldayname  \n",
       "calldate                                                                     \n",
       "2019-12-19  21217.0      2019         12       19      December    Thursday  \n",
       "2019-12-19  21201.0      2019         12       19      December    Thursday  \n",
       "2019-12-19  21217.0      2019         12       19      December    Thursday  \n",
       "2019-12-19  21216.0      2019         12       19      December    Thursday  \n",
       "2019-01-01  21202.0      2019          1        1       January     Tuesday  "
      ]
     },
     "execution_count": 21,
     "metadata": {},
     "output_type": "execute_result"
    }
   ],
   "source": [
    "data.tail()"
   ]
  },
  {
   "cell_type": "code",
   "execution_count": 22,
   "metadata": {},
   "outputs": [
    {
     "name": "stdout",
     "output_type": "stream",
     "text": [
      "<class 'pandas.core.frame.DataFrame'>\n",
      "DatetimeIndex: 1429672 entries, 2019-01-01 to 2019-01-01\n",
      "Data columns (total 20 columns):\n",
      "objectid                       1429672 non-null int64\n",
      "recordid                       1429672 non-null int64\n",
      "callkey                        1429672 non-null object\n",
      "priority                       1429672 non-null object\n",
      "district                       1429672 non-null object\n",
      "description                    1429672 non-null object\n",
      "callnumber                     1429672 non-null object\n",
      "incidentlocation               1429672 non-null object\n",
      "neighborhood                   1429672 non-null object\n",
      "policepost                     1429672 non-null float64\n",
      "councildistrict                1429672 non-null float64\n",
      "sheriffdistricts               1429672 non-null object\n",
      "community_statistical_areas    1429672 non-null object\n",
      "census_tracts                  1429672 non-null float64\n",
      "zipcode                        1429672 non-null float64\n",
      "callyear                       1429672 non-null int64\n",
      "callmonth                      1429672 non-null int64\n",
      "callday                        1429672 non-null int64\n",
      "callmonthname                  1429672 non-null object\n",
      "calldayname                    1429672 non-null object\n",
      "dtypes: float64(4), int64(5), object(11)\n",
      "memory usage: 229.1+ MB\n"
     ]
    }
   ],
   "source": [
    "data.info()"
   ]
  },
  {
   "cell_type": "markdown",
   "metadata": {},
   "source": [
    "Even though it shows calls happen from 2019-01-01 to 2019-01-01. The previous cell (with tail data display) indicates that the row before the last is  a call recorded 2019-12-19 (December 19th)."
   ]
  },
  {
   "cell_type": "markdown",
   "metadata": {},
   "source": [
    "### Correlation between attributes (Heatmap)"
   ]
  },
  {
   "cell_type": "code",
   "execution_count": 23,
   "metadata": {
    "scrolled": false
   },
   "outputs": [
    {
     "data": {
      "image/png": "[encoded data removed]",
      "text/plain": [
       "<Figure size 432x288 with 2 Axes>"
      ]
     },
     "metadata": {
      "needs_background": "light"
     },
     "output_type": "display_data"
    }
   ],
   "source": [
    "sns.heatmap(df.corr())\n",
    "plt.show()"
   ]
  },
  {
   "cell_type": "markdown",
   "metadata": {},
   "source": [
    "### Analysis of call description of incidents"
   ]
  },
  {
   "cell_type": "code",
   "execution_count": 24,
   "metadata": {
    "scrolled": true
   },
   "outputs": [
    {
     "data": {
      "text/plain": [
       "Business Check      240531\n",
       "COMMUNITY ENGAGE    136654\n",
       "Hot Spot Check      123635\n",
       "Traffic Stop         93438\n",
       "DISORDERLY           86445\n",
       "                     ...  \n",
       "UNKNNW TROUBLE           1\n",
       "DIABELED VEH             1\n",
       "CLOSD CALL               1\n",
       "ATTEMPTED THEFT          1\n",
       "SITTING IN VEH           1\n",
       "Name: description, Length: 2701, dtype: int64"
      ]
     },
     "execution_count": 24,
     "metadata": {},
     "output_type": "execute_result"
    }
   ],
   "source": [
    "df.description.value_counts()"
   ]
  },
  {
   "cell_type": "markdown",
   "metadata": {},
   "source": [
    "As it is shown above, we have around 2701 described crimes or incidents reported through 911 calls."
   ]
  },
  {
   "cell_type": "markdown",
   "metadata": {},
   "source": [
    "Let's plot the top 10 described crimes or incidents reported through 911 calls."
   ]
  },
  {
   "cell_type": "code",
   "execution_count": 25,
   "metadata": {},
   "outputs": [
    {
     "data": {
      "image/png": "[encoded data removed]",
      "text/plain": [
       "<Figure size 432x288 with 1 Axes>"
      ]
     },
     "metadata": {
      "needs_background": "light"
     },
     "output_type": "display_data"
    }
   ],
   "source": [
    "df.description.value_counts()[:10].plot(kind='barh')\n",
    "plt.title('Distribution of the top 10 incidents description labels', loc='left')\n",
    "plt.show()"
   ]
  },
  {
   "cell_type": "markdown",
   "metadata": {},
   "source": [
    "### Analysis of 911 calls priority categories"
   ]
  },
  {
   "cell_type": "code",
   "execution_count": 26,
   "metadata": {},
   "outputs": [
    {
     "data": {
      "text/plain": [
       "Non-Emergency     786909\n",
       "Low               279096\n",
       "Medium            273827\n",
       "High               89422\n",
       "Emergency            241\n",
       "Out of Service       177\n",
       "Name: priority, dtype: int64"
      ]
     },
     "execution_count": 26,
     "metadata": {},
     "output_type": "execute_result"
    }
   ],
   "source": [
    "df['priority'].value_counts()"
   ]
  },
  {
   "cell_type": "code",
   "execution_count": 27,
   "metadata": {},
   "outputs": [
    {
     "data": {
      "text/plain": [
       "Non-Emergency     0.550412\n",
       "Low               0.195217\n",
       "Medium            0.191531\n",
       "High              0.062547\n",
       "Emergency         0.000169\n",
       "Out of Service    0.000124\n",
       "Name: priority, dtype: float64"
      ]
     },
     "execution_count": 27,
     "metadata": {},
     "output_type": "execute_result"
    }
   ],
   "source": [
    "df.priority.value_counts(normalize=True)"
   ]
  },
  {
   "cell_type": "markdown",
   "metadata": {},
   "source": [
    "The Non-Emergency calls class occupies the majority of class with 55% which is more than half of other remaining 5 classes combined together."
   ]
  },
  {
   "cell_type": "code",
   "execution_count": 28,
   "metadata": {},
   "outputs": [
    {
     "data": {
      "image/png": "[encoded data removed]",
      "text/plain": [
       "<Figure size 432x288 with 1 Axes>"
      ]
     },
     "metadata": {
      "needs_background": "light"
     },
     "output_type": "display_data"
    }
   ],
   "source": [
    "(df['priority'].value_counts()/1000).plot.barh()\n",
    "plt.title('Distribution of 911 calls priority categories with scale factor of 1000', loc='left')\n",
    "plt.show()"
   ]
  },
  {
   "cell_type": "markdown",
   "metadata": {},
   "source": [
    "The call priority are categorized based on the level of emergency indication, such as low, medium to high as well as those marked emergency, non-emergency and out of service. Thus, I will be performing multiclass classification of the above 6 classes related to calls priority."
   ]
  },
  {
   "cell_type": "markdown",
   "metadata": {},
   "source": [
    "### Aggregate the number of calls taken per month"
   ]
  },
  {
   "cell_type": "code",
   "execution_count": 29,
   "metadata": {},
   "outputs": [
    {
     "data": {
      "text/plain": [
       "callmonthname\n",
       "April        133152\n",
       "August       116822\n",
       "December     127774\n",
       "February     101119\n",
       "January       98628\n",
       "July         121281\n",
       "June         121614\n",
       "March        128867\n",
       "May          132555\n",
       "November     121054\n",
       "October      118298\n",
       "September    108508\n",
       "Name: priority, dtype: int64"
      ]
     },
     "execution_count": 29,
     "metadata": {},
     "output_type": "execute_result"
    }
   ],
   "source": [
    "df.groupby('callmonthname')['priority'].count().sort_index()"
   ]
  },
  {
   "cell_type": "markdown",
   "metadata": {},
   "source": [
    "### Relationship between 911 calls priority categories and months in 2019"
   ]
  },
  {
   "cell_type": "code",
   "execution_count": 30,
   "metadata": {},
   "outputs": [
    {
     "data": {
      "text/html": [
       "<div>\n",
       "<style scoped>\n",
       "    .dataframe tbody tr th:only-of-type {\n",
       "        vertical-align: middle;\n",
       "    }\n",
       "\n",
       "    .dataframe tbody tr th {\n",
       "        vertical-align: top;\n",
       "    }\n",
       "\n",
       "    .dataframe thead th {\n",
       "        text-align: right;\n",
       "    }\n",
       "</style>\n",
       "<table border=\"1\" class=\"dataframe\">\n",
       "  <thead>\n",
       "    <tr style=\"text-align: right;\">\n",
       "      <th>priority</th>\n",
       "      <th>Emergency</th>\n",
       "      <th>High</th>\n",
       "      <th>Low</th>\n",
       "      <th>Medium</th>\n",
       "      <th>Non-Emergency</th>\n",
       "      <th>Out of Service</th>\n",
       "    </tr>\n",
       "    <tr>\n",
       "      <th>callmonth</th>\n",
       "      <th></th>\n",
       "      <th></th>\n",
       "      <th></th>\n",
       "      <th></th>\n",
       "      <th></th>\n",
       "      <th></th>\n",
       "    </tr>\n",
       "  </thead>\n",
       "  <tbody>\n",
       "    <tr>\n",
       "      <td>1</td>\n",
       "      <td>16</td>\n",
       "      <td>7396</td>\n",
       "      <td>21658</td>\n",
       "      <td>22077</td>\n",
       "      <td>47461</td>\n",
       "      <td>20</td>\n",
       "    </tr>\n",
       "    <tr>\n",
       "      <td>2</td>\n",
       "      <td>14</td>\n",
       "      <td>6073</td>\n",
       "      <td>19466</td>\n",
       "      <td>20047</td>\n",
       "      <td>55510</td>\n",
       "      <td>9</td>\n",
       "    </tr>\n",
       "    <tr>\n",
       "      <td>3</td>\n",
       "      <td>20</td>\n",
       "      <td>7123</td>\n",
       "      <td>22761</td>\n",
       "      <td>22771</td>\n",
       "      <td>76172</td>\n",
       "      <td>20</td>\n",
       "    </tr>\n",
       "    <tr>\n",
       "      <td>4</td>\n",
       "      <td>32</td>\n",
       "      <td>7639</td>\n",
       "      <td>23839</td>\n",
       "      <td>24813</td>\n",
       "      <td>76823</td>\n",
       "      <td>6</td>\n",
       "    </tr>\n",
       "    <tr>\n",
       "      <td>5</td>\n",
       "      <td>28</td>\n",
       "      <td>8736</td>\n",
       "      <td>26254</td>\n",
       "      <td>25903</td>\n",
       "      <td>71625</td>\n",
       "      <td>9</td>\n",
       "    </tr>\n",
       "    <tr>\n",
       "      <td>6</td>\n",
       "      <td>20</td>\n",
       "      <td>8359</td>\n",
       "      <td>24753</td>\n",
       "      <td>23971</td>\n",
       "      <td>64496</td>\n",
       "      <td>15</td>\n",
       "    </tr>\n",
       "    <tr>\n",
       "      <td>7</td>\n",
       "      <td>25</td>\n",
       "      <td>8049</td>\n",
       "      <td>25980</td>\n",
       "      <td>24522</td>\n",
       "      <td>62681</td>\n",
       "      <td>24</td>\n",
       "    </tr>\n",
       "    <tr>\n",
       "      <td>8</td>\n",
       "      <td>16</td>\n",
       "      <td>8429</td>\n",
       "      <td>25102</td>\n",
       "      <td>23934</td>\n",
       "      <td>59327</td>\n",
       "      <td>14</td>\n",
       "    </tr>\n",
       "    <tr>\n",
       "      <td>9</td>\n",
       "      <td>19</td>\n",
       "      <td>8158</td>\n",
       "      <td>23184</td>\n",
       "      <td>22905</td>\n",
       "      <td>54227</td>\n",
       "      <td>15</td>\n",
       "    </tr>\n",
       "    <tr>\n",
       "      <td>10</td>\n",
       "      <td>17</td>\n",
       "      <td>7338</td>\n",
       "      <td>23335</td>\n",
       "      <td>22230</td>\n",
       "      <td>65363</td>\n",
       "      <td>15</td>\n",
       "    </tr>\n",
       "    <tr>\n",
       "      <td>11</td>\n",
       "      <td>22</td>\n",
       "      <td>6038</td>\n",
       "      <td>21149</td>\n",
       "      <td>20223</td>\n",
       "      <td>73604</td>\n",
       "      <td>18</td>\n",
       "    </tr>\n",
       "    <tr>\n",
       "      <td>12</td>\n",
       "      <td>12</td>\n",
       "      <td>6084</td>\n",
       "      <td>21615</td>\n",
       "      <td>20431</td>\n",
       "      <td>79620</td>\n",
       "      <td>12</td>\n",
       "    </tr>\n",
       "  </tbody>\n",
       "</table>\n",
       "</div>"
      ],
      "text/plain": [
       "priority   Emergency  High    Low  Medium  Non-Emergency  Out of Service\n",
       "callmonth                                                               \n",
       "1                 16  7396  21658   22077          47461              20\n",
       "2                 14  6073  19466   20047          55510               9\n",
       "3                 20  7123  22761   22771          76172              20\n",
       "4                 32  7639  23839   24813          76823               6\n",
       "5                 28  8736  26254   25903          71625               9\n",
       "6                 20  8359  24753   23971          64496              15\n",
       "7                 25  8049  25980   24522          62681              24\n",
       "8                 16  8429  25102   23934          59327              14\n",
       "9                 19  8158  23184   22905          54227              15\n",
       "10                17  7338  23335   22230          65363              15\n",
       "11                22  6038  21149   20223          73604              18\n",
       "12                12  6084  21615   20431          79620              12"
      ]
     },
     "execution_count": 30,
     "metadata": {},
     "output_type": "execute_result"
    }
   ],
   "source": [
    "monthycalls = df.groupby('callmonth').priority.value_counts()\n",
    "monthycalls.unstack()"
   ]
  },
  {
   "cell_type": "markdown",
   "metadata": {},
   "source": [
    "According to this table, April had a high number of callss marked as Emergency calls, and December had a high number of Non-Emergency calls."
   ]
  },
  {
   "cell_type": "markdown",
   "metadata": {},
   "source": [
    "### Describe the relationship between 911 calls priority categories and months with a heatmap"
   ]
  },
  {
   "cell_type": "code",
   "execution_count": 31,
   "metadata": {},
   "outputs": [
    {
     "data": {
      "image/png": "[encoded data removed]",
      "text/plain": [
       "<Figure size 432x288 with 2 Axes>"
      ]
     },
     "metadata": {
      "needs_background": "light"
     },
     "output_type": "display_data"
    }
   ],
   "source": [
    "sns.heatmap(monthycalls.unstack())\n",
    "plt.xlabel('')\n",
    "plt.ylabel('')\n",
    "plt.title('Calls priority by Month')\n",
    "plt.show()"
   ]
  },
  {
   "cell_type": "code",
   "execution_count": 32,
   "metadata": {},
   "outputs": [
    {
     "data": {
      "text/plain": [
       "<matplotlib.axes._subplots.AxesSubplot at 0x1bc80e2c388>"
      ]
     },
     "execution_count": 32,
     "metadata": {},
     "output_type": "execute_result"
    },
    {
     "data": {
      "image/png": "[encoded data removed]",
      "text/plain": [
       "<Figure size 432x288 with 1 Axes>"
      ]
     },
     "metadata": {
      "needs_background": "light"
     },
     "output_type": "display_data"
    }
   ],
   "source": [
    "sns.histplot(binwidth=0.5, x=\"callmonth\", hue=\"priority\", data=df, stat=\"count\", multiple=\"stack\")"
   ]
  },
  {
   "cell_type": "markdown",
   "metadata": {},
   "source": [
    "In 2019, the month of April had the most number of 911 calls. Whereas, the month of January had the least number of 911 calls."
   ]
  },
  {
   "cell_type": "markdown",
   "metadata": {},
   "source": [
    "### Plot trends of each priority 911 calls type monthly"
   ]
  },
  {
   "cell_type": "code",
   "execution_count": 33,
   "metadata": {
    "scrolled": false
   },
   "outputs": [
    {
     "data": {
      "image/png": "[encoded data removed]",
      "text/plain": [
       "<Figure size 432x288 with 1 Axes>"
      ]
     },
     "metadata": {
      "needs_background": "light"
     },
     "output_type": "display_data"
    }
   ],
   "source": [
    "priority_type = 'Emergency'\n",
    "\n",
    "df.query('priority==@priority_type').groupby('callmonth')['priority'].count().plot()\n",
    "plt.title(f'Trend of \"{priority_type}\" 911 calls monthly in 2019', loc='right')\n",
    "plt.xlabel('Month')\n",
    "plt.ylabel('Count')\n",
    "plt.show()"
   ]
  },
  {
   "cell_type": "code",
   "execution_count": 34,
   "metadata": {},
   "outputs": [
    {
     "data": {
      "image/png": "[encoded data removed]",
      "text/plain": [
       "<Figure size 432x288 with 1 Axes>"
      ]
     },
     "metadata": {
      "needs_background": "light"
     },
     "output_type": "display_data"
    }
   ],
   "source": [
    "priority_type = 'Non-Emergency'\n",
    "\n",
    "df.query('priority==@priority_type').groupby('callmonth')['priority'].count().plot()\n",
    "plt.title(f'Trend of \"{priority_type}\" 911 calls monthly in 2019', loc='right')\n",
    "plt.xlabel('Month')\n",
    "plt.ylabel('Count')\n",
    "plt.show()"
   ]
  },
  {
   "cell_type": "code",
   "execution_count": 35,
   "metadata": {},
   "outputs": [
    {
     "data": {
      "image/png": "[encoded data removed]",
      "text/plain": [
       "<Figure size 432x288 with 1 Axes>"
      ]
     },
     "metadata": {
      "needs_background": "light"
     },
     "output_type": "display_data"
    }
   ],
   "source": [
    "priority_type = 'Low'\n",
    "\n",
    "df.query('priority==@priority_type').groupby('callmonth')['priority'].count().plot()\n",
    "plt.title(f'Trend of \"{priority_type}\" Emergency 911 calls monthly in 2019', loc='right')\n",
    "plt.xlabel('Month')\n",
    "plt.ylabel('Count')\n",
    "plt.show()"
   ]
  },
  {
   "cell_type": "code",
   "execution_count": 36,
   "metadata": {},
   "outputs": [
    {
     "data": {
      "image/png": "[encoded data removed]",
      "text/plain": [
       "<Figure size 432x288 with 1 Axes>"
      ]
     },
     "metadata": {
      "needs_background": "light"
     },
     "output_type": "display_data"
    }
   ],
   "source": [
    "priority_type = 'Medium'\n",
    "\n",
    "df.query('priority==@priority_type').groupby('callmonth')['priority'].count().plot()\n",
    "plt.title(f'Trend of \"{priority_type}\" Emergency 911 calls monthly in 2019', loc='right')\n",
    "plt.xlabel('Month')\n",
    "plt.ylabel('Count')\n",
    "plt.show()"
   ]
  },
  {
   "cell_type": "code",
   "execution_count": 37,
   "metadata": {},
   "outputs": [
    {
     "data": {
      "image/png": "[encoded data removed]",
      "text/plain": [
       "<Figure size 432x288 with 1 Axes>"
      ]
     },
     "metadata": {
      "needs_background": "light"
     },
     "output_type": "display_data"
    }
   ],
   "source": [
    "priority_type = 'High'\n",
    "\n",
    "df.query('priority==@priority_type').groupby('callmonth')['priority'].count().plot()\n",
    "plt.title(f'Trend of \"{priority_type}\" Emergency 911 calls monthly in 2019', loc='right')\n",
    "plt.xlabel('Month')\n",
    "plt.ylabel('Count')\n",
    "plt.show()"
   ]
  },
  {
   "cell_type": "code",
   "execution_count": 38,
   "metadata": {},
   "outputs": [
    {
     "data": {
      "image/png": "[encoded data removed]",
      "text/plain": [
       "<Figure size 432x288 with 1 Axes>"
      ]
     },
     "metadata": {
      "needs_background": "light"
     },
     "output_type": "display_data"
    }
   ],
   "source": [
    "priority_type = 'Out of Service'\n",
    "\n",
    "df.query('priority==@priority_type').groupby('callmonth')['priority'].count().plot()\n",
    "plt.title(f'Trend of \"{priority_type}\" 911 calls monthly in 2019', loc='right')\n",
    "plt.xlabel('Month')\n",
    "plt.ylabel('Count')\n",
    "plt.show()"
   ]
  },
  {
   "cell_type": "markdown",
   "metadata": {},
   "source": [
    "## Modeling"
   ]
  },
  {
   "cell_type": "markdown",
   "metadata": {},
   "source": [
    "### Numericals & Categorical columns/features"
   ]
  },
  {
   "cell_type": "code",
   "execution_count": 39,
   "metadata": {},
   "outputs": [
    {
     "data": {
      "text/plain": [
       "['objectid',\n",
       " 'recordid',\n",
       " 'policepost',\n",
       " 'councildistrict',\n",
       " 'census_tracts',\n",
       " 'zipcode',\n",
       " 'callyear',\n",
       " 'callmonth',\n",
       " 'callday']"
      ]
     },
     "execution_count": 39,
     "metadata": {},
     "output_type": "execute_result"
    }
   ],
   "source": [
    "num_cols = df.select_dtypes(exclude=['object']).columns.tolist()\n",
    "num_cols.remove('calldate')\n",
    "num_cols"
   ]
  },
  {
   "cell_type": "code",
   "execution_count": 40,
   "metadata": {},
   "outputs": [
    {
     "data": {
      "text/plain": [
       "['callkey',\n",
       " 'district',\n",
       " 'description',\n",
       " 'callnumber',\n",
       " 'incidentlocation',\n",
       " 'neighborhood',\n",
       " 'sheriffdistricts',\n",
       " 'community_statistical_areas',\n",
       " 'callmonthname',\n",
       " 'calldayname']"
      ]
     },
     "execution_count": 40,
     "metadata": {},
     "output_type": "execute_result"
    }
   ],
   "source": [
    "cat_cols = df.select_dtypes(include=['object']).columns.tolist()\n",
    "cat_cols.remove('priority')\n",
    "cat_cols"
   ]
  },
  {
   "cell_type": "code",
   "execution_count": 41,
   "metadata": {},
   "outputs": [
    {
     "data": {
      "text/plain": [
       "['objectid',\n",
       " 'recordid',\n",
       " 'callkey',\n",
       " 'district',\n",
       " 'description',\n",
       " 'callnumber',\n",
       " 'incidentlocation',\n",
       " 'neighborhood',\n",
       " 'policepost',\n",
       " 'councildistrict',\n",
       " 'sheriffdistricts',\n",
       " 'community_statistical_areas',\n",
       " 'census_tracts',\n",
       " 'zipcode',\n",
       " 'calldate',\n",
       " 'callyear',\n",
       " 'callmonth',\n",
       " 'callday',\n",
       " 'callmonthname',\n",
       " 'calldayname']"
      ]
     },
     "execution_count": 41,
     "metadata": {},
     "output_type": "execute_result"
    }
   ],
   "source": [
    "cols = df.columns.tolist()\n",
    "cols.remove('priority')\n",
    "cols"
   ]
  },
  {
   "cell_type": "markdown",
   "metadata": {},
   "source": [
    "The above list of columns represent the inputs variables/feautures. The target variable is 'priority'."
   ]
  },
  {
   "cell_type": "markdown",
   "metadata": {},
   "source": [
    "### Partitionning training/testing sets"
   ]
  },
  {
   "cell_type": "code",
   "execution_count": 42,
   "metadata": {},
   "outputs": [],
   "source": [
    "# split into \n",
    "from sklearn.model_selection import train_test_split\n",
    "from sklearn.preprocessing import OneHotEncoder\n",
    "from sklearn.compose import ColumnTransformer\n",
    "from sklearn.pipeline import Pipeline\n",
    "\n",
    "def gen_splits(dataframe, features, target, test_pct=0.2):\n",
    "    return train_test_split(dataframe[cols], dataframe[target], test_size=test_pct)\n",
    "\n",
    "X_train, X_test, y_train, y_test = gen_splits(df, cols, 'priority')"
   ]
  },
  {
   "cell_type": "markdown",
   "metadata": {},
   "source": [
    "### Creating pipelines with feature transformer and modeling"
   ]
  },
  {
   "cell_type": "code",
   "execution_count": 43,
   "metadata": {},
   "outputs": [],
   "source": [
    "def pipe(model):\n",
    "    pipeline = Pipeline([('t', transformer), ('m', model)])\n",
    "    return pipeline\n",
    "\n",
    "transformer = ColumnTransformer(transformers=[('ohe', OneHotEncoder(handle_unknown='ignore'), cat_cols)])"
   ]
  },
  {
   "cell_type": "markdown",
   "metadata": {},
   "source": [
    "### Logistic Regression model baseline"
   ]
  },
  {
   "cell_type": "code",
   "execution_count": 44,
   "metadata": {},
   "outputs": [
    {
     "name": "stdout",
     "output_type": "stream",
     "text": [
      "Logistic Regression Model fit\n"
     ]
    }
   ],
   "source": [
    "from sklearn.linear_model import LogisticRegression\n",
    "\n",
    "lgr = pipe(LogisticRegression())\n",
    "lgr.fit(X_train, y_train)\n",
    "print('Logistic Regression Model fit')"
   ]
  },
  {
   "cell_type": "code",
   "execution_count": 45,
   "metadata": {},
   "outputs": [
    {
     "name": "stdout",
     "output_type": "stream",
     "text": [
      "Training accuracy score with Logistic Regression: 98.12%\n",
      "Testing accuracy score with Logistic Regression: 95.67%\n"
     ]
    }
   ],
   "source": [
    "print(f'Training accuracy score with Logistic Regression: {lgr.score(X_train, y_train):.2%}')\n",
    "print(f'Testing accuracy score with Logistic Regression: {lgr.score(X_test, y_test):.2%}')"
   ]
  },
  {
   "cell_type": "code",
   "execution_count": 46,
   "metadata": {},
   "outputs": [
    {
     "name": "stdout",
     "output_type": "stream",
     "text": [
      "                precision    recall  f1-score   support\n",
      "\n",
      "     Emergency       0.98      0.92      0.95        52\n",
      "          High       0.85      0.84      0.84     17948\n",
      "           Low       0.93      0.96      0.94     55848\n",
      "        Medium       0.92      0.90      0.91     54676\n",
      " Non-Emergency       0.99      0.99      0.99    157375\n",
      "Out of Service       0.00      0.00      0.00        36\n",
      "\n",
      "      accuracy                           0.96    285935\n",
      "     macro avg       0.78      0.77      0.77    285935\n",
      "  weighted avg       0.96      0.96      0.96    285935\n",
      "\n"
     ]
    }
   ],
   "source": [
    "from sklearn.metrics import classification_report\n",
    "\n",
    "base = lgr.fit(X_train, y_train)\n",
    "base_p = base.predict(X_test)\n",
    "\n",
    "print(classification_report(y_test, base_p))"
   ]
  },
  {
   "cell_type": "markdown",
   "metadata": {},
   "source": [
    "No need to plot ROC as we are performing multiclass classification."
   ]
  },
  {
   "cell_type": "markdown",
   "metadata": {},
   "source": [
    "### Exploration of different models hyperparameters & Grid Search"
   ]
  },
  {
   "cell_type": "markdown",
   "metadata": {},
   "source": [
    "### Logistic Regression model with grid search cross-validation using 3 folds"
   ]
  },
  {
   "cell_type": "code",
   "execution_count": 55,
   "metadata": {},
   "outputs": [
    {
     "name": "stdout",
     "output_type": "stream",
     "text": [
      "Pipeline(memory=None,\n",
      "         steps=[('t',\n",
      "                 ColumnTransformer(n_jobs=None, remainder='drop',\n",
      "                                   sparse_threshold=0.3,\n",
      "                                   transformer_weights=None,\n",
      "                                   transformers=[('ohe',\n",
      "                                                  OneHotEncoder(categories='auto',\n",
      "                                                                drop=None,\n",
      "                                                                dtype=<class 'numpy.float64'>,\n",
      "                                                                handle_unknown='ignore',\n",
      "                                                                sparse=True),\n",
      "                                                  ['callkey', 'district',\n",
      "                                                   'description', 'callnumber',\n",
      "                                                   'incidentlocation',\n",
      "                                                   'neighborhood',\n",
      "                                                   'sheriffdistricts',\n",
      "                                                   'community_statistical_areas',\n",
      "                                                   'callmonthname',\n",
      "                                                   'calldayname'])],\n",
      "                                   verbose=False)),\n",
      "                ('m',\n",
      "                 LogisticRegression(C=0.1, class_weight=None, dual=False,\n",
      "                                    fit_intercept=True, intercept_scaling=1,\n",
      "                                    l1_ratio=None, max_iter=100,\n",
      "                                    multi_class='auto', n_jobs=None,\n",
      "                                    penalty='l2', random_state=None,\n",
      "                                    solver='lbfgs', tol=0.0001, verbose=0,\n",
      "                                    warm_start=False))],\n",
      "         verbose=False)\n"
     ]
    }
   ],
   "source": [
    "from sklearn.model_selection import GridSearchCV\n",
    "\n",
    "param_grid = [\n",
    "  {'m__class_weight': [None, 'balanced'], \n",
    "   'm__C':[0.1, 1]\n",
    "  }\n",
    " ]\n",
    "\n",
    "# Recall is the metric used to select the model as we are dealing with unbalanced classes.\n",
    "# grid search cross-validation using 3 folds\n",
    "lgr_gcv_results = GridSearchCV(estimator=lgr, param_grid=param_grid, cv=3)\n",
    "lgr_gcv_results = lgr_gcv_results.fit(X_train, y_train)\n",
    "\n",
    "# best model\n",
    "print(lgr_gcv_results.best_estimator_)"
   ]
  },
  {
   "cell_type": "code",
   "execution_count": 56,
   "metadata": {},
   "outputs": [
    {
     "name": "stdout",
     "output_type": "stream",
     "text": [
      "Validation Best Score: 95.69%\n"
     ]
    }
   ],
   "source": [
    "print(f'Validation Best Score: {lgr_gcv_results.best_score_:.2%}')"
   ]
  },
  {
   "cell_type": "code",
   "execution_count": 57,
   "metadata": {},
   "outputs": [
    {
     "name": "stdout",
     "output_type": "stream",
     "text": [
      "                precision    recall  f1-score   support\n",
      "\n",
      "     Emergency       0.97      0.67      0.80        52\n",
      "          High       0.86      0.83      0.85     17948\n",
      "           Low       0.92      0.96      0.94     55848\n",
      "        Medium       0.91      0.91      0.91     54676\n",
      " Non-Emergency       1.00      0.99      0.99    157375\n",
      "Out of Service       0.00      0.00      0.00        36\n",
      "\n",
      "      accuracy                           0.96    285935\n",
      "     macro avg       0.78      0.73      0.75    285935\n",
      "  weighted avg       0.96      0.96      0.96    285935\n",
      "\n"
     ]
    }
   ],
   "source": [
    "y_testp = lgr_gcv_results.predict(X_test)\n",
    "\n",
    "print(classification_report(y_test, y_testp))"
   ]
  },
  {
   "cell_type": "markdown",
   "metadata": {},
   "source": [
    "## Conclusion/Next steps"
   ]
  },
  {
   "attachments": {},
   "cell_type": "markdown",
   "metadata": {},
   "source": [
    "- Logistic regression is the most common classification model to use for this type of problem (multi labels/classes classification).\n",
    "\n",
    "- I found the best model based on grid search\n",
    "\n",
    "- The baseline model and the grid search achieved a high accuracy score close to 96 percent.\n",
    "\n",
    "- Potential ways to improve performance and Areas for further exploration would be: Running other Decision Tree Algorithms and see if it has any impact as the dataset size is too large."
   ]
  },
  {
   "cell_type": "markdown",
   "metadata": {},
   "source": [
    "## References"
   ]
  },
  {
   "attachments": {},
   "cell_type": "markdown",
   "metadata": {},
   "source": [
    "1. https://github.com/appliedecon/data602-lectures\n",
    "2. https://scikit-learn.org/stable/modules/linear_model.html#logistic-regression\n",
    "3. https://data.baltimorecity.gov/datasets/baltimore::911-calls-for-service-2019/about\n"
   ]
  }
 ],
 "metadata": {
  "kernelspec": {
   "display_name": "Python 3",
   "language": "python",
   "name": "python3"
  },
  "language_info": {
   "codemirror_mode": {
    "name": "ipython",
    "version": 3
   },
   "file_extension": ".py",
   "mimetype": "text/x-python",
   "name": "python",
   "nbconvert_exporter": "python",
   "pygments_lexer": "ipython3",
   "version": "3.7.4"
  }
 },
 "nbformat": 4,
 "nbformat_minor": 2
}
