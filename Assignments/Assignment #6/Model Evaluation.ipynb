{
 "cells": [
  {
   "cell_type": "markdown",
   "metadata": {},
   "source": [
    "## Import librairies"
   ]
  },
  {
   "cell_type": "code",
   "execution_count": 1,
   "metadata": {},
   "outputs": [],
   "source": [
    "import pandas as pd\n",
    "import numpy as np"
   ]
  },
  {
   "cell_type": "markdown",
   "metadata": {},
   "source": [
    "## Load dataset"
   ]
  },
  {
   "cell_type": "code",
   "execution_count": 6,
   "metadata": {},
   "outputs": [
    {
     "name": "stdout",
     "output_type": "stream",
     "text": [
      "<class 'pandas.core.frame.DataFrame'>\n",
      "RangeIndex: 768 entries, 0 to 767\n",
      "Data columns (total 9 columns):\n",
      "Number  of times pregnant     768 non-null int64\n",
      "Plasma glucose                768 non-null int64\n",
      "Diastolic blood pressure      768 non-null int64\n",
      "Triceps skinfold thickness    768 non-null int64\n",
      "serum insulin                 768 non-null int64\n",
      "Body mass index               768 non-null float64\n",
      "Diabetes pedigree function    768 non-null float64\n",
      "Age                           768 non-null int64\n",
      "Class                         768 non-null int64\n",
      "dtypes: float64(2), int64(7)\n",
      "memory usage: 54.1 KB\n"
     ]
    }
   ],
   "source": [
    "df = pd.read_csv('pima_indian_data.csv')\n",
    "df.info()"
   ]
  },
  {
   "cell_type": "code",
   "execution_count": 7,
   "metadata": {},
   "outputs": [
    {
     "data": {
      "text/html": [
       "<div>\n",
       "<style scoped>\n",
       "    .dataframe tbody tr th:only-of-type {\n",
       "        vertical-align: middle;\n",
       "    }\n",
       "\n",
       "    .dataframe tbody tr th {\n",
       "        vertical-align: top;\n",
       "    }\n",
       "\n",
       "    .dataframe thead th {\n",
       "        text-align: right;\n",
       "    }\n",
       "</style>\n",
       "<table border=\"1\" class=\"dataframe\">\n",
       "  <thead>\n",
       "    <tr style=\"text-align: right;\">\n",
       "      <th></th>\n",
       "      <th>Number  of times pregnant</th>\n",
       "      <th>Plasma glucose</th>\n",
       "      <th>Diastolic blood pressure</th>\n",
       "      <th>Triceps skinfold thickness</th>\n",
       "      <th>serum insulin</th>\n",
       "      <th>Body mass index</th>\n",
       "      <th>Diabetes pedigree function</th>\n",
       "      <th>Age</th>\n",
       "      <th>Class</th>\n",
       "    </tr>\n",
       "  </thead>\n",
       "  <tbody>\n",
       "    <tr>\n",
       "      <td>0</td>\n",
       "      <td>6</td>\n",
       "      <td>148</td>\n",
       "      <td>72</td>\n",
       "      <td>35</td>\n",
       "      <td>0</td>\n",
       "      <td>33.6</td>\n",
       "      <td>0.627</td>\n",
       "      <td>50</td>\n",
       "      <td>1</td>\n",
       "    </tr>\n",
       "    <tr>\n",
       "      <td>1</td>\n",
       "      <td>1</td>\n",
       "      <td>85</td>\n",
       "      <td>66</td>\n",
       "      <td>29</td>\n",
       "      <td>0</td>\n",
       "      <td>26.6</td>\n",
       "      <td>0.351</td>\n",
       "      <td>31</td>\n",
       "      <td>0</td>\n",
       "    </tr>\n",
       "    <tr>\n",
       "      <td>2</td>\n",
       "      <td>8</td>\n",
       "      <td>183</td>\n",
       "      <td>64</td>\n",
       "      <td>0</td>\n",
       "      <td>0</td>\n",
       "      <td>23.3</td>\n",
       "      <td>0.672</td>\n",
       "      <td>32</td>\n",
       "      <td>1</td>\n",
       "    </tr>\n",
       "    <tr>\n",
       "      <td>3</td>\n",
       "      <td>1</td>\n",
       "      <td>89</td>\n",
       "      <td>66</td>\n",
       "      <td>23</td>\n",
       "      <td>94</td>\n",
       "      <td>28.1</td>\n",
       "      <td>0.167</td>\n",
       "      <td>21</td>\n",
       "      <td>0</td>\n",
       "    </tr>\n",
       "    <tr>\n",
       "      <td>4</td>\n",
       "      <td>0</td>\n",
       "      <td>137</td>\n",
       "      <td>40</td>\n",
       "      <td>35</td>\n",
       "      <td>168</td>\n",
       "      <td>43.1</td>\n",
       "      <td>2.288</td>\n",
       "      <td>33</td>\n",
       "      <td>1</td>\n",
       "    </tr>\n",
       "  </tbody>\n",
       "</table>\n",
       "</div>"
      ],
      "text/plain": [
       "   Number  of times pregnant  Plasma glucose  Diastolic blood pressure  \\\n",
       "0                          6             148                        72   \n",
       "1                          1              85                        66   \n",
       "2                          8             183                        64   \n",
       "3                          1              89                        66   \n",
       "4                          0             137                        40   \n",
       "\n",
       "   Triceps skinfold thickness  serum insulin  Body mass index  \\\n",
       "0                          35              0             33.6   \n",
       "1                          29              0             26.6   \n",
       "2                           0              0             23.3   \n",
       "3                          23             94             28.1   \n",
       "4                          35            168             43.1   \n",
       "\n",
       "   Diabetes pedigree function  Age  Class  \n",
       "0                       0.627   50      1  \n",
       "1                       0.351   31      0  \n",
       "2                       0.672   32      1  \n",
       "3                       0.167   21      0  \n",
       "4                       2.288   33      1  "
      ]
     },
     "execution_count": 7,
     "metadata": {},
     "output_type": "execute_result"
    }
   ],
   "source": [
    "df.head()"
   ]
  },
  {
   "cell_type": "markdown",
   "metadata": {},
   "source": [
    "## Split off the features and the target variable"
   ]
  },
  {
   "cell_type": "code",
   "execution_count": 8,
   "metadata": {},
   "outputs": [],
   "source": [
    "features = [x for x in df.columns if x != 'Class']\n",
    "\n",
    "X =  df[features]\n",
    "y = df['Class']"
   ]
  },
  {
   "cell_type": "markdown",
   "metadata": {},
   "source": [
    "The input variables are the number of pregnancies the patient had, their Plasma glucose, Diastolic blood pressure, Triceps skinfold thickness, serum insulin insulin level, Diabetes pedigree function and age."
   ]
  },
  {
   "cell_type": "markdown",
   "metadata": {},
   "source": [
    "The target is Class (diabetes or healthy patient)."
   ]
  },
  {
   "cell_type": "markdown",
   "metadata": {},
   "source": [
    "## Train/Test sets split"
   ]
  },
  {
   "cell_type": "code",
   "execution_count": 9,
   "metadata": {},
   "outputs": [
    {
     "name": "stdout",
     "output_type": "stream",
     "text": [
      "Training samples: 614\n",
      "Test samples: 154\n"
     ]
    }
   ],
   "source": [
    "from sklearn.model_selection import train_test_split\n",
    "\n",
    "X_train, X_test, y_train, y_test = train_test_split(X, y, test_size=0.20, random_state = 20)\n",
    "                                                            \n",
    "print(f'Training samples: {X_train.shape[0]}')\n",
    "print(f'Test samples: {X_test.shape[0]}')"
   ]
  },
  {
   "cell_type": "markdown",
   "metadata": {},
   "source": [
    "## Create a pipeline to perform any feature processing and model logistic regression"
   ]
  },
  {
   "cell_type": "code",
   "execution_count": 11,
   "metadata": {},
   "outputs": [],
   "source": [
    "from sklearn.pipeline import Pipeline\n",
    "from sklearn.preprocessing import StandardScaler \n",
    "from sklearn.linear_model import LogisticRegression\n",
    "\n",
    "modeling_pipeline = Pipeline([('data_prepocessing', StandardScaler()), ('logreg', LogisticRegression())])"
   ]
  },
  {
   "cell_type": "markdown",
   "metadata": {},
   "source": [
    "## Run a baseline model"
   ]
  },
  {
   "cell_type": "code",
   "execution_count": 12,
   "metadata": {},
   "outputs": [
    {
     "name": "stdout",
     "output_type": "stream",
     "text": [
      "              precision    recall  f1-score   support\n",
      "\n",
      "           0       0.78      0.86      0.82       101\n",
      "           1       0.67      0.55      0.60        53\n",
      "\n",
      "    accuracy                           0.75       154\n",
      "   macro avg       0.73      0.70      0.71       154\n",
      "weighted avg       0.75      0.75      0.75       154\n",
      "\n"
     ]
    }
   ],
   "source": [
    "from sklearn.metrics import classification_report\n",
    "\n",
    "base = modeling_pipeline.fit(X_train, y_train)\n",
    "base_p = base.predict(X_test)\n",
    "\n",
    "print(classification_report(y_test, base_p))"
   ]
  },
  {
   "cell_type": "markdown",
   "metadata": {},
   "source": [
    "## Logistic Regression model with grid search cross-validation using 10 folds"
   ]
  },
  {
   "cell_type": "code",
   "execution_count": 14,
   "metadata": {},
   "outputs": [
    {
     "name": "stdout",
     "output_type": "stream",
     "text": [
      "Pipeline(memory=None,\n",
      "         steps=[('data_prepocessing',\n",
      "                 StandardScaler(copy=True, with_mean=True, with_std=True)),\n",
      "                ('logreg',\n",
      "                 LogisticRegression(C=10, class_weight='balanced', dual=False,\n",
      "                                    fit_intercept=True, intercept_scaling=1,\n",
      "                                    l1_ratio=None, max_iter=100,\n",
      "                                    multi_class='auto', n_jobs=None,\n",
      "                                    penalty='l2', random_state=None,\n",
      "                                    solver='lbfgs', tol=0.0001, verbose=0,\n",
      "                                    warm_start=False))],\n",
      "         verbose=False)\n"
     ]
    }
   ],
   "source": [
    "from sklearn.model_selection import GridSearchCV\n",
    "\n",
    "# Search 5 different regularization strengths and 2 solvers in the grid\n",
    "param_grid = [\n",
    "  {'logreg__class_weight': [None, 'balanced'], 'logreg__C':[0.01, 0.1, 1, 10, 100]}\n",
    " ]\n",
    "\n",
    "# recall is the metric used to select the model\n",
    "# grid search cross-validation using 10 folds, so cv=10\n",
    "gcv_results = GridSearchCV(estimator=modeling_pipeline, param_grid=param_grid, scoring='recall', cv=10, refit=True)\n",
    "gcv_results = gcv_results.fit(X_train, y_train)\n",
    "\n",
    "# best model\n",
    "print(gcv_results.best_estimator_)"
   ]
  },
  {
   "cell_type": "markdown",
   "metadata": {},
   "source": [
    "I picked Recall as a metric since we are going to predict whether or not a patient has diabetes. Recall will inform us of all the patients that are actually diabetic how many we labeled correctly. Recall is also expensive for this case."
   ]
  },
  {
   "cell_type": "markdown",
   "metadata": {},
   "source": [
    "## Determine how this performs on the test set"
   ]
  },
  {
   "cell_type": "code",
   "execution_count": 15,
   "metadata": {},
   "outputs": [
    {
     "name": "stdout",
     "output_type": "stream",
     "text": [
      "              precision    recall  f1-score   support\n",
      "\n",
      "           0       0.82      0.74      0.78       101\n",
      "           1       0.58      0.68      0.63        53\n",
      "\n",
      "    accuracy                           0.72       154\n",
      "   macro avg       0.70      0.71      0.70       154\n",
      "weighted avg       0.73      0.72      0.73       154\n",
      "\n"
     ]
    }
   ],
   "source": [
    "y_testp = gcv_results.predict(X_test)\n",
    "\n",
    "print(classification_report(y_test, y_testp))"
   ]
  },
  {
   "cell_type": "markdown",
   "metadata": {},
   "source": [
    "68% of patients with diabetes were correctly identified by this model."
   ]
  },
  {
   "cell_type": "markdown",
   "metadata": {},
   "source": [
    "Recall was improved from 0.55 to 0.68 for detecting the patients with diabetes.  \n",
    "Precision went from 0.67 to 0.58 for detecting the patients with diabetes.  Compared to the baseline model, we have more of the diabetes patients, with the trade-off of more false-positives. "
   ]
  }
 ],
 "metadata": {
  "kernelspec": {
   "display_name": "Python 3",
   "language": "python",
   "name": "python3"
  },
  "language_info": {
   "codemirror_mode": {
    "name": "ipython",
    "version": 3
   },
   "file_extension": ".py",
   "mimetype": "text/x-python",
   "name": "python",
   "nbconvert_exporter": "python",
   "pygments_lexer": "ipython3",
   "version": "3.7.4"
  }
 },
 "nbformat": 4,
 "nbformat_minor": 2
}
